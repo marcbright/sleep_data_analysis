{
 "cells": [
  {
   "cell_type": "code",
   "execution_count": 1,
   "id": "9ab87d8d",
   "metadata": {
    "_cell_guid": "b1076dfc-b9ad-4769-8c92-a6c4dae69d19",
    "_uuid": "8f2839f25d086af736a60e9eeb907d3b93b6e0e5",
    "execution": {
     "iopub.execute_input": "2024-10-03T13:03:29.549390Z",
     "iopub.status.busy": "2024-10-03T13:03:29.548940Z",
     "iopub.status.idle": "2024-10-03T13:03:30.416652Z",
     "shell.execute_reply": "2024-10-03T13:03:30.415165Z"
    },
    "papermill": {
     "duration": 0.883479,
     "end_time": "2024-10-03T13:03:30.419379",
     "exception": false,
     "start_time": "2024-10-03T13:03:29.535900",
     "status": "completed"
    },
    "tags": []
   },
   "outputs": [
    {
     "name": "stdout",
     "output_type": "stream",
     "text": [
      "/kaggle/input/health-and-sleep-statistics/Health_Sleep_Statistics.csv\n"
     ]
    }
   ],
   "source": [
    "# This Python 3 environment comes with many helpful analytics libraries installed\n",
    "# It is defined by the kaggle/python Docker image: https://github.com/kaggle/docker-python\n",
    "# For example, here's several helpful packages to load\n",
    "\n",
    "import numpy as np # linear algebra\n",
    "import pandas as pd # data processing, CSV file I/O (e.g. pd.read_csv)\n",
    "\n",
    "# Input data files are available in the read-only \"../input/\" directory\n",
    "# For example, running this (by clicking run or pressing Shift+Enter) will list all files under the input directory\n",
    "\n",
    "import os\n",
    "for dirname, _, filenames in os.walk('/kaggle/input'):\n",
    "    for filename in filenames:\n",
    "        print(os.path.join(dirname, filename))\n",
    "\n",
    "# You can write up to 20GB to the current directory (/kaggle/working/) that gets preserved as output when you create a version using \"Save & Run All\" \n",
    "# You can also write temporary files to /kaggle/temp/, but they won't be saved outside of the current session"
   ]
  },
  {
   "cell_type": "code",
   "execution_count": 2,
   "id": "34f3d029",
   "metadata": {
    "execution": {
     "iopub.execute_input": "2024-10-03T13:03:30.444197Z",
     "iopub.status.busy": "2024-10-03T13:03:30.443095Z",
     "iopub.status.idle": "2024-10-03T13:03:32.534316Z",
     "shell.execute_reply": "2024-10-03T13:03:32.532834Z"
    },
    "papermill": {
     "duration": 2.106792,
     "end_time": "2024-10-03T13:03:32.537218",
     "exception": false,
     "start_time": "2024-10-03T13:03:30.430426",
     "status": "completed"
    },
    "tags": []
   },
   "outputs": [],
   "source": [
    "import numpy as np \n",
    "import pandas as pd\n",
    "import matplotlib.pyplot as plt\n",
    "import seaborn as sns\n",
    "from sklearn.linear_model import LinearRegression\n",
    "from scipy import stats"
   ]
  },
  {
   "cell_type": "code",
   "execution_count": 3,
   "id": "9132df89",
   "metadata": {
    "execution": {
     "iopub.execute_input": "2024-10-03T13:03:32.562398Z",
     "iopub.status.busy": "2024-10-03T13:03:32.561818Z",
     "iopub.status.idle": "2024-10-03T13:03:32.607401Z",
     "shell.execute_reply": "2024-10-03T13:03:32.606237Z"
    },
    "papermill": {
     "duration": 0.061238,
     "end_time": "2024-10-03T13:03:32.609965",
     "exception": false,
     "start_time": "2024-10-03T13:03:32.548727",
     "status": "completed"
    },
    "tags": []
   },
   "outputs": [
    {
     "data": {
      "text/html": [
       "<div>\n",
       "<style scoped>\n",
       "    .dataframe tbody tr th:only-of-type {\n",
       "        vertical-align: middle;\n",
       "    }\n",
       "\n",
       "    .dataframe tbody tr th {\n",
       "        vertical-align: top;\n",
       "    }\n",
       "\n",
       "    .dataframe thead th {\n",
       "        text-align: right;\n",
       "    }\n",
       "</style>\n",
       "<table border=\"1\" class=\"dataframe\">\n",
       "  <thead>\n",
       "    <tr style=\"text-align: right;\">\n",
       "      <th></th>\n",
       "      <th>User ID</th>\n",
       "      <th>Age</th>\n",
       "      <th>Gender</th>\n",
       "      <th>Sleep Quality</th>\n",
       "      <th>Bedtime</th>\n",
       "      <th>Wake-up Time</th>\n",
       "      <th>Daily Steps</th>\n",
       "      <th>Calories Burned</th>\n",
       "      <th>Physical Activity Level</th>\n",
       "      <th>Dietary Habits</th>\n",
       "      <th>Sleep Disorders</th>\n",
       "      <th>Medication Usage</th>\n",
       "    </tr>\n",
       "  </thead>\n",
       "  <tbody>\n",
       "    <tr>\n",
       "      <th>0</th>\n",
       "      <td>1</td>\n",
       "      <td>25</td>\n",
       "      <td>f</td>\n",
       "      <td>8</td>\n",
       "      <td>23:00</td>\n",
       "      <td>06:30</td>\n",
       "      <td>8000</td>\n",
       "      <td>2500</td>\n",
       "      <td>medium</td>\n",
       "      <td>healthy</td>\n",
       "      <td>no</td>\n",
       "      <td>no</td>\n",
       "    </tr>\n",
       "    <tr>\n",
       "      <th>1</th>\n",
       "      <td>2</td>\n",
       "      <td>34</td>\n",
       "      <td>m</td>\n",
       "      <td>7</td>\n",
       "      <td>00:30</td>\n",
       "      <td>07:00</td>\n",
       "      <td>5000</td>\n",
       "      <td>2200</td>\n",
       "      <td>low</td>\n",
       "      <td>unhealthy</td>\n",
       "      <td>yes</td>\n",
       "      <td>yes</td>\n",
       "    </tr>\n",
       "    <tr>\n",
       "      <th>2</th>\n",
       "      <td>3</td>\n",
       "      <td>29</td>\n",
       "      <td>f</td>\n",
       "      <td>9</td>\n",
       "      <td>22:45</td>\n",
       "      <td>06:45</td>\n",
       "      <td>9000</td>\n",
       "      <td>2700</td>\n",
       "      <td>high</td>\n",
       "      <td>healthy</td>\n",
       "      <td>no</td>\n",
       "      <td>no</td>\n",
       "    </tr>\n",
       "    <tr>\n",
       "      <th>3</th>\n",
       "      <td>4</td>\n",
       "      <td>41</td>\n",
       "      <td>m</td>\n",
       "      <td>5</td>\n",
       "      <td>01:00</td>\n",
       "      <td>06:30</td>\n",
       "      <td>4000</td>\n",
       "      <td>2100</td>\n",
       "      <td>low</td>\n",
       "      <td>unhealthy</td>\n",
       "      <td>yes</td>\n",
       "      <td>no</td>\n",
       "    </tr>\n",
       "    <tr>\n",
       "      <th>4</th>\n",
       "      <td>5</td>\n",
       "      <td>22</td>\n",
       "      <td>f</td>\n",
       "      <td>8</td>\n",
       "      <td>23:30</td>\n",
       "      <td>07:00</td>\n",
       "      <td>10000</td>\n",
       "      <td>2800</td>\n",
       "      <td>high</td>\n",
       "      <td>medium</td>\n",
       "      <td>no</td>\n",
       "      <td>no</td>\n",
       "    </tr>\n",
       "  </tbody>\n",
       "</table>\n",
       "</div>"
      ],
      "text/plain": [
       "   User ID  Age Gender  Sleep Quality Bedtime Wake-up Time  Daily Steps  \\\n",
       "0        1   25      f              8   23:00        06:30         8000   \n",
       "1        2   34      m              7   00:30        07:00         5000   \n",
       "2        3   29      f              9   22:45        06:45         9000   \n",
       "3        4   41      m              5   01:00        06:30         4000   \n",
       "4        5   22      f              8   23:30        07:00        10000   \n",
       "\n",
       "   Calories Burned Physical Activity Level Dietary Habits Sleep Disorders  \\\n",
       "0             2500                  medium        healthy              no   \n",
       "1             2200                     low      unhealthy             yes   \n",
       "2             2700                    high        healthy              no   \n",
       "3             2100                     low      unhealthy             yes   \n",
       "4             2800                    high         medium              no   \n",
       "\n",
       "  Medication Usage  \n",
       "0               no  \n",
       "1              yes  \n",
       "2               no  \n",
       "3               no  \n",
       "4               no  "
      ]
     },
     "execution_count": 3,
     "metadata": {},
     "output_type": "execute_result"
    }
   ],
   "source": [
    "df = pd.read_csv('/kaggle/input/health-and-sleep-statistics/Health_Sleep_Statistics.csv')\n",
    "df.head()"
   ]
  },
  {
   "cell_type": "code",
   "execution_count": 4,
   "id": "90250bed",
   "metadata": {
    "execution": {
     "iopub.execute_input": "2024-10-03T13:03:32.635182Z",
     "iopub.status.busy": "2024-10-03T13:03:32.634157Z",
     "iopub.status.idle": "2024-10-03T13:03:32.642627Z",
     "shell.execute_reply": "2024-10-03T13:03:32.641287Z"
    },
    "papermill": {
     "duration": 0.023644,
     "end_time": "2024-10-03T13:03:32.645098",
     "exception": false,
     "start_time": "2024-10-03T13:03:32.621454",
     "status": "completed"
    },
    "tags": []
   },
   "outputs": [
    {
     "data": {
      "text/plain": [
       "1200"
      ]
     },
     "execution_count": 4,
     "metadata": {},
     "output_type": "execute_result"
    }
   ],
   "source": [
    "df.size"
   ]
  },
  {
   "cell_type": "code",
   "execution_count": 5,
   "id": "b7d3a600",
   "metadata": {
    "execution": {
     "iopub.execute_input": "2024-10-03T13:03:32.669868Z",
     "iopub.status.busy": "2024-10-03T13:03:32.669418Z",
     "iopub.status.idle": "2024-10-03T13:03:32.677244Z",
     "shell.execute_reply": "2024-10-03T13:03:32.676135Z"
    },
    "papermill": {
     "duration": 0.022716,
     "end_time": "2024-10-03T13:03:32.679732",
     "exception": false,
     "start_time": "2024-10-03T13:03:32.657016",
     "status": "completed"
    },
    "tags": []
   },
   "outputs": [
    {
     "data": {
      "text/plain": [
       "Index(['User ID', 'Age', 'Gender', 'Sleep Quality', 'Bedtime', 'Wake-up Time',\n",
       "       'Daily Steps', 'Calories Burned', 'Physical Activity Level',\n",
       "       'Dietary Habits', 'Sleep Disorders', 'Medication Usage'],\n",
       "      dtype='object')"
      ]
     },
     "execution_count": 5,
     "metadata": {},
     "output_type": "execute_result"
    }
   ],
   "source": [
    "df.columns"
   ]
  },
  {
   "cell_type": "code",
   "execution_count": 6,
   "id": "ad7364d5",
   "metadata": {
    "execution": {
     "iopub.execute_input": "2024-10-03T13:03:32.704385Z",
     "iopub.status.busy": "2024-10-03T13:03:32.703463Z",
     "iopub.status.idle": "2024-10-03T13:03:32.710940Z",
     "shell.execute_reply": "2024-10-03T13:03:32.709733Z"
    },
    "papermill": {
     "duration": 0.022596,
     "end_time": "2024-10-03T13:03:32.713534",
     "exception": false,
     "start_time": "2024-10-03T13:03:32.690938",
     "status": "completed"
    },
    "tags": []
   },
   "outputs": [
    {
     "data": {
      "text/plain": [
       "12"
      ]
     },
     "execution_count": 6,
     "metadata": {},
     "output_type": "execute_result"
    }
   ],
   "source": [
    "df.columns.size"
   ]
  },
  {
   "cell_type": "code",
   "execution_count": 7,
   "id": "56cf6426",
   "metadata": {
    "execution": {
     "iopub.execute_input": "2024-10-03T13:03:32.738649Z",
     "iopub.status.busy": "2024-10-03T13:03:32.737457Z",
     "iopub.status.idle": "2024-10-03T13:03:32.762995Z",
     "shell.execute_reply": "2024-10-03T13:03:32.761933Z"
    },
    "papermill": {
     "duration": 0.040558,
     "end_time": "2024-10-03T13:03:32.765383",
     "exception": false,
     "start_time": "2024-10-03T13:03:32.724825",
     "status": "completed"
    },
    "tags": []
   },
   "outputs": [
    {
     "name": "stdout",
     "output_type": "stream",
     "text": [
      "<class 'pandas.core.frame.DataFrame'>\n",
      "RangeIndex: 100 entries, 0 to 99\n",
      "Data columns (total 12 columns):\n",
      " #   Column                   Non-Null Count  Dtype \n",
      "---  ------                   --------------  ----- \n",
      " 0   User ID                  100 non-null    int64 \n",
      " 1   Age                      100 non-null    int64 \n",
      " 2   Gender                   100 non-null    object\n",
      " 3   Sleep Quality            100 non-null    int64 \n",
      " 4   Bedtime                  100 non-null    object\n",
      " 5   Wake-up Time             100 non-null    object\n",
      " 6   Daily Steps              100 non-null    int64 \n",
      " 7   Calories Burned          100 non-null    int64 \n",
      " 8   Physical Activity Level  100 non-null    object\n",
      " 9   Dietary Habits           100 non-null    object\n",
      " 10  Sleep Disorders          100 non-null    object\n",
      " 11  Medication Usage         100 non-null    object\n",
      "dtypes: int64(5), object(7)\n",
      "memory usage: 9.5+ KB\n"
     ]
    }
   ],
   "source": [
    "df.info()"
   ]
  },
  {
   "cell_type": "code",
   "execution_count": 8,
   "id": "a9810e6b",
   "metadata": {
    "execution": {
     "iopub.execute_input": "2024-10-03T13:03:32.790201Z",
     "iopub.status.busy": "2024-10-03T13:03:32.789768Z",
     "iopub.status.idle": "2024-10-03T13:03:32.820757Z",
     "shell.execute_reply": "2024-10-03T13:03:32.819083Z"
    },
    "papermill": {
     "duration": 0.046746,
     "end_time": "2024-10-03T13:03:32.823663",
     "exception": false,
     "start_time": "2024-10-03T13:03:32.776917",
     "status": "completed"
    },
    "tags": []
   },
   "outputs": [
    {
     "data": {
      "text/html": [
       "<div>\n",
       "<style scoped>\n",
       "    .dataframe tbody tr th:only-of-type {\n",
       "        vertical-align: middle;\n",
       "    }\n",
       "\n",
       "    .dataframe tbody tr th {\n",
       "        vertical-align: top;\n",
       "    }\n",
       "\n",
       "    .dataframe thead th {\n",
       "        text-align: right;\n",
       "    }\n",
       "</style>\n",
       "<table border=\"1\" class=\"dataframe\">\n",
       "  <thead>\n",
       "    <tr style=\"text-align: right;\">\n",
       "      <th></th>\n",
       "      <th>User ID</th>\n",
       "      <th>Age</th>\n",
       "      <th>Sleep Quality</th>\n",
       "      <th>Daily Steps</th>\n",
       "      <th>Calories Burned</th>\n",
       "    </tr>\n",
       "  </thead>\n",
       "  <tbody>\n",
       "    <tr>\n",
       "      <th>count</th>\n",
       "      <td>100.000000</td>\n",
       "      <td>100.000000</td>\n",
       "      <td>100.000000</td>\n",
       "      <td>100.000000</td>\n",
       "      <td>100.00000</td>\n",
       "    </tr>\n",
       "    <tr>\n",
       "      <th>mean</th>\n",
       "      <td>50.500000</td>\n",
       "      <td>36.010000</td>\n",
       "      <td>7.000000</td>\n",
       "      <td>6830.000000</td>\n",
       "      <td>2421.00000</td>\n",
       "    </tr>\n",
       "    <tr>\n",
       "      <th>std</th>\n",
       "      <td>29.011492</td>\n",
       "      <td>8.454865</td>\n",
       "      <td>1.734964</td>\n",
       "      <td>2498.706736</td>\n",
       "      <td>281.06759</td>\n",
       "    </tr>\n",
       "    <tr>\n",
       "      <th>min</th>\n",
       "      <td>1.000000</td>\n",
       "      <td>22.000000</td>\n",
       "      <td>4.000000</td>\n",
       "      <td>3000.000000</td>\n",
       "      <td>2000.00000</td>\n",
       "    </tr>\n",
       "    <tr>\n",
       "      <th>25%</th>\n",
       "      <td>25.750000</td>\n",
       "      <td>28.750000</td>\n",
       "      <td>5.750000</td>\n",
       "      <td>4750.000000</td>\n",
       "      <td>2175.00000</td>\n",
       "    </tr>\n",
       "    <tr>\n",
       "      <th>50%</th>\n",
       "      <td>50.500000</td>\n",
       "      <td>35.000000</td>\n",
       "      <td>7.500000</td>\n",
       "      <td>6750.000000</td>\n",
       "      <td>2400.00000</td>\n",
       "    </tr>\n",
       "    <tr>\n",
       "      <th>75%</th>\n",
       "      <td>75.250000</td>\n",
       "      <td>44.000000</td>\n",
       "      <td>8.250000</td>\n",
       "      <td>9000.000000</td>\n",
       "      <td>2700.00000</td>\n",
       "    </tr>\n",
       "    <tr>\n",
       "      <th>max</th>\n",
       "      <td>100.000000</td>\n",
       "      <td>50.000000</td>\n",
       "      <td>9.000000</td>\n",
       "      <td>11000.000000</td>\n",
       "      <td>2900.00000</td>\n",
       "    </tr>\n",
       "  </tbody>\n",
       "</table>\n",
       "</div>"
      ],
      "text/plain": [
       "          User ID         Age  Sleep Quality   Daily Steps  Calories Burned\n",
       "count  100.000000  100.000000     100.000000    100.000000        100.00000\n",
       "mean    50.500000   36.010000       7.000000   6830.000000       2421.00000\n",
       "std     29.011492    8.454865       1.734964   2498.706736        281.06759\n",
       "min      1.000000   22.000000       4.000000   3000.000000       2000.00000\n",
       "25%     25.750000   28.750000       5.750000   4750.000000       2175.00000\n",
       "50%     50.500000   35.000000       7.500000   6750.000000       2400.00000\n",
       "75%     75.250000   44.000000       8.250000   9000.000000       2700.00000\n",
       "max    100.000000   50.000000       9.000000  11000.000000       2900.00000"
      ]
     },
     "execution_count": 8,
     "metadata": {},
     "output_type": "execute_result"
    }
   ],
   "source": [
    "df.describe()"
   ]
  },
  {
   "cell_type": "code",
   "execution_count": 9,
   "id": "3e8a4afd",
   "metadata": {
    "execution": {
     "iopub.execute_input": "2024-10-03T13:03:32.849347Z",
     "iopub.status.busy": "2024-10-03T13:03:32.848194Z",
     "iopub.status.idle": "2024-10-03T13:03:32.858541Z",
     "shell.execute_reply": "2024-10-03T13:03:32.857025Z"
    },
    "papermill": {
     "duration": 0.025999,
     "end_time": "2024-10-03T13:03:32.861327",
     "exception": false,
     "start_time": "2024-10-03T13:03:32.835328",
     "status": "completed"
    },
    "tags": []
   },
   "outputs": [
    {
     "data": {
      "text/plain": [
       "User ID                    0\n",
       "Age                        0\n",
       "Gender                     0\n",
       "Sleep Quality              0\n",
       "Bedtime                    0\n",
       "Wake-up Time               0\n",
       "Daily Steps                0\n",
       "Calories Burned            0\n",
       "Physical Activity Level    0\n",
       "Dietary Habits             0\n",
       "Sleep Disorders            0\n",
       "Medication Usage           0\n",
       "dtype: int64"
      ]
     },
     "execution_count": 9,
     "metadata": {},
     "output_type": "execute_result"
    }
   ],
   "source": [
    "df.isna().sum()"
   ]
  },
  {
   "cell_type": "code",
   "execution_count": 10,
   "id": "f42b0fd2",
   "metadata": {
    "execution": {
     "iopub.execute_input": "2024-10-03T13:03:32.886239Z",
     "iopub.status.busy": "2024-10-03T13:03:32.885828Z",
     "iopub.status.idle": "2024-10-03T13:03:32.895806Z",
     "shell.execute_reply": "2024-10-03T13:03:32.894682Z"
    },
    "papermill": {
     "duration": 0.025132,
     "end_time": "2024-10-03T13:03:32.898129",
     "exception": false,
     "start_time": "2024-10-03T13:03:32.872997",
     "status": "completed"
    },
    "tags": []
   },
   "outputs": [
    {
     "data": {
      "text/plain": [
       "0"
      ]
     },
     "execution_count": 10,
     "metadata": {},
     "output_type": "execute_result"
    }
   ],
   "source": [
    "df.duplicated().sum()"
   ]
  },
  {
   "cell_type": "code",
   "execution_count": 11,
   "id": "6399420b",
   "metadata": {
    "execution": {
     "iopub.execute_input": "2024-10-03T13:03:32.923821Z",
     "iopub.status.busy": "2024-10-03T13:03:32.923377Z",
     "iopub.status.idle": "2024-10-03T13:03:32.931142Z",
     "shell.execute_reply": "2024-10-03T13:03:32.930000Z"
    },
    "papermill": {
     "duration": 0.023712,
     "end_time": "2024-10-03T13:03:32.933689",
     "exception": false,
     "start_time": "2024-10-03T13:03:32.909977",
     "status": "completed"
    },
    "tags": []
   },
   "outputs": [],
   "source": [
    "df.drop([\"User ID\"], axis = 1, inplace = True)"
   ]
  },
  {
   "cell_type": "code",
   "execution_count": 12,
   "id": "806a2838",
   "metadata": {
    "execution": {
     "iopub.execute_input": "2024-10-03T13:03:32.959718Z",
     "iopub.status.busy": "2024-10-03T13:03:32.959248Z",
     "iopub.status.idle": "2024-10-03T13:03:32.978545Z",
     "shell.execute_reply": "2024-10-03T13:03:32.977519Z"
    },
    "papermill": {
     "duration": 0.035041,
     "end_time": "2024-10-03T13:03:32.980876",
     "exception": false,
     "start_time": "2024-10-03T13:03:32.945835",
     "status": "completed"
    },
    "tags": []
   },
   "outputs": [
    {
     "data": {
      "text/html": [
       "<div>\n",
       "<style scoped>\n",
       "    .dataframe tbody tr th:only-of-type {\n",
       "        vertical-align: middle;\n",
       "    }\n",
       "\n",
       "    .dataframe tbody tr th {\n",
       "        vertical-align: top;\n",
       "    }\n",
       "\n",
       "    .dataframe thead th {\n",
       "        text-align: right;\n",
       "    }\n",
       "</style>\n",
       "<table border=\"1\" class=\"dataframe\">\n",
       "  <thead>\n",
       "    <tr style=\"text-align: right;\">\n",
       "      <th></th>\n",
       "      <th>Age</th>\n",
       "      <th>Gender</th>\n",
       "      <th>Sleep Quality</th>\n",
       "      <th>Bedtime</th>\n",
       "      <th>Wake-up Time</th>\n",
       "      <th>Daily Steps</th>\n",
       "      <th>Calories Burned</th>\n",
       "      <th>Physical Activity Level</th>\n",
       "      <th>Dietary Habits</th>\n",
       "      <th>Sleep Disorders</th>\n",
       "      <th>Medication Usage</th>\n",
       "    </tr>\n",
       "  </thead>\n",
       "  <tbody>\n",
       "    <tr>\n",
       "      <th>0</th>\n",
       "      <td>25</td>\n",
       "      <td>f</td>\n",
       "      <td>8</td>\n",
       "      <td>23:00</td>\n",
       "      <td>06:30</td>\n",
       "      <td>8000</td>\n",
       "      <td>2500</td>\n",
       "      <td>medium</td>\n",
       "      <td>healthy</td>\n",
       "      <td>no</td>\n",
       "      <td>no</td>\n",
       "    </tr>\n",
       "    <tr>\n",
       "      <th>1</th>\n",
       "      <td>34</td>\n",
       "      <td>m</td>\n",
       "      <td>7</td>\n",
       "      <td>00:30</td>\n",
       "      <td>07:00</td>\n",
       "      <td>5000</td>\n",
       "      <td>2200</td>\n",
       "      <td>low</td>\n",
       "      <td>unhealthy</td>\n",
       "      <td>yes</td>\n",
       "      <td>yes</td>\n",
       "    </tr>\n",
       "    <tr>\n",
       "      <th>2</th>\n",
       "      <td>29</td>\n",
       "      <td>f</td>\n",
       "      <td>9</td>\n",
       "      <td>22:45</td>\n",
       "      <td>06:45</td>\n",
       "      <td>9000</td>\n",
       "      <td>2700</td>\n",
       "      <td>high</td>\n",
       "      <td>healthy</td>\n",
       "      <td>no</td>\n",
       "      <td>no</td>\n",
       "    </tr>\n",
       "    <tr>\n",
       "      <th>3</th>\n",
       "      <td>41</td>\n",
       "      <td>m</td>\n",
       "      <td>5</td>\n",
       "      <td>01:00</td>\n",
       "      <td>06:30</td>\n",
       "      <td>4000</td>\n",
       "      <td>2100</td>\n",
       "      <td>low</td>\n",
       "      <td>unhealthy</td>\n",
       "      <td>yes</td>\n",
       "      <td>no</td>\n",
       "    </tr>\n",
       "    <tr>\n",
       "      <th>4</th>\n",
       "      <td>22</td>\n",
       "      <td>f</td>\n",
       "      <td>8</td>\n",
       "      <td>23:30</td>\n",
       "      <td>07:00</td>\n",
       "      <td>10000</td>\n",
       "      <td>2800</td>\n",
       "      <td>high</td>\n",
       "      <td>medium</td>\n",
       "      <td>no</td>\n",
       "      <td>no</td>\n",
       "    </tr>\n",
       "    <tr>\n",
       "      <th>...</th>\n",
       "      <td>...</td>\n",
       "      <td>...</td>\n",
       "      <td>...</td>\n",
       "      <td>...</td>\n",
       "      <td>...</td>\n",
       "      <td>...</td>\n",
       "      <td>...</td>\n",
       "      <td>...</td>\n",
       "      <td>...</td>\n",
       "      <td>...</td>\n",
       "      <td>...</td>\n",
       "    </tr>\n",
       "    <tr>\n",
       "      <th>95</th>\n",
       "      <td>43</td>\n",
       "      <td>m</td>\n",
       "      <td>7</td>\n",
       "      <td>00:45</td>\n",
       "      <td>07:15</td>\n",
       "      <td>6500</td>\n",
       "      <td>2400</td>\n",
       "      <td>medium</td>\n",
       "      <td>medium</td>\n",
       "      <td>no</td>\n",
       "      <td>no</td>\n",
       "    </tr>\n",
       "    <tr>\n",
       "      <th>96</th>\n",
       "      <td>33</td>\n",
       "      <td>f</td>\n",
       "      <td>8</td>\n",
       "      <td>23:15</td>\n",
       "      <td>06:15</td>\n",
       "      <td>8500</td>\n",
       "      <td>2600</td>\n",
       "      <td>high</td>\n",
       "      <td>medium</td>\n",
       "      <td>no</td>\n",
       "      <td>no</td>\n",
       "    </tr>\n",
       "    <tr>\n",
       "      <th>97</th>\n",
       "      <td>46</td>\n",
       "      <td>m</td>\n",
       "      <td>4</td>\n",
       "      <td>01:30</td>\n",
       "      <td>07:00</td>\n",
       "      <td>3000</td>\n",
       "      <td>2000</td>\n",
       "      <td>low</td>\n",
       "      <td>unhealthy</td>\n",
       "      <td>yes</td>\n",
       "      <td>yes</td>\n",
       "    </tr>\n",
       "    <tr>\n",
       "      <th>98</th>\n",
       "      <td>25</td>\n",
       "      <td>f</td>\n",
       "      <td>9</td>\n",
       "      <td>22:15</td>\n",
       "      <td>06:45</td>\n",
       "      <td>9500</td>\n",
       "      <td>2700</td>\n",
       "      <td>high</td>\n",
       "      <td>healthy</td>\n",
       "      <td>no</td>\n",
       "      <td>no</td>\n",
       "    </tr>\n",
       "    <tr>\n",
       "      <th>99</th>\n",
       "      <td>41</td>\n",
       "      <td>m</td>\n",
       "      <td>6</td>\n",
       "      <td>00:30</td>\n",
       "      <td>07:00</td>\n",
       "      <td>5000</td>\n",
       "      <td>2200</td>\n",
       "      <td>medium</td>\n",
       "      <td>unhealthy</td>\n",
       "      <td>no</td>\n",
       "      <td>no</td>\n",
       "    </tr>\n",
       "  </tbody>\n",
       "</table>\n",
       "<p>100 rows × 11 columns</p>\n",
       "</div>"
      ],
      "text/plain": [
       "    Age Gender  Sleep Quality Bedtime Wake-up Time  Daily Steps  \\\n",
       "0    25      f              8   23:00        06:30         8000   \n",
       "1    34      m              7   00:30        07:00         5000   \n",
       "2    29      f              9   22:45        06:45         9000   \n",
       "3    41      m              5   01:00        06:30         4000   \n",
       "4    22      f              8   23:30        07:00        10000   \n",
       "..  ...    ...            ...     ...          ...          ...   \n",
       "95   43      m              7   00:45        07:15         6500   \n",
       "96   33      f              8   23:15        06:15         8500   \n",
       "97   46      m              4   01:30        07:00         3000   \n",
       "98   25      f              9   22:15        06:45         9500   \n",
       "99   41      m              6   00:30        07:00         5000   \n",
       "\n",
       "    Calories Burned Physical Activity Level Dietary Habits Sleep Disorders  \\\n",
       "0              2500                  medium        healthy              no   \n",
       "1              2200                     low      unhealthy             yes   \n",
       "2              2700                    high        healthy              no   \n",
       "3              2100                     low      unhealthy             yes   \n",
       "4              2800                    high         medium              no   \n",
       "..              ...                     ...            ...             ...   \n",
       "95             2400                  medium         medium              no   \n",
       "96             2600                    high         medium              no   \n",
       "97             2000                     low      unhealthy             yes   \n",
       "98             2700                    high        healthy              no   \n",
       "99             2200                  medium      unhealthy              no   \n",
       "\n",
       "   Medication Usage  \n",
       "0                no  \n",
       "1               yes  \n",
       "2                no  \n",
       "3                no  \n",
       "4                no  \n",
       "..              ...  \n",
       "95               no  \n",
       "96               no  \n",
       "97              yes  \n",
       "98               no  \n",
       "99               no  \n",
       "\n",
       "[100 rows x 11 columns]"
      ]
     },
     "execution_count": 12,
     "metadata": {},
     "output_type": "execute_result"
    }
   ],
   "source": [
    "df"
   ]
  },
  {
   "cell_type": "markdown",
   "id": "ac7775f8",
   "metadata": {
    "papermill": {
     "duration": 0.011795,
     "end_time": "2024-10-03T13:03:33.004872",
     "exception": false,
     "start_time": "2024-10-03T13:03:32.993077",
     "status": "completed"
    },
    "tags": []
   },
   "source": [
    "# ****Age vs Sleep Quality analysis****"
   ]
  },
  {
   "cell_type": "code",
   "execution_count": 13,
   "id": "1e8b9d82",
   "metadata": {
    "execution": {
     "iopub.execute_input": "2024-10-03T13:03:33.031533Z",
     "iopub.status.busy": "2024-10-03T13:03:33.031094Z",
     "iopub.status.idle": "2024-10-03T13:03:33.045617Z",
     "shell.execute_reply": "2024-10-03T13:03:33.044412Z"
    },
    "papermill": {
     "duration": 0.031021,
     "end_time": "2024-10-03T13:03:33.048176",
     "exception": false,
     "start_time": "2024-10-03T13:03:33.017155",
     "status": "completed"
    },
    "tags": []
   },
   "outputs": [
    {
     "data": {
      "text/html": [
       "<div>\n",
       "<style scoped>\n",
       "    .dataframe tbody tr th:only-of-type {\n",
       "        vertical-align: middle;\n",
       "    }\n",
       "\n",
       "    .dataframe tbody tr th {\n",
       "        vertical-align: top;\n",
       "    }\n",
       "\n",
       "    .dataframe thead th {\n",
       "        text-align: right;\n",
       "    }\n",
       "</style>\n",
       "<table border=\"1\" class=\"dataframe\">\n",
       "  <thead>\n",
       "    <tr style=\"text-align: right;\">\n",
       "      <th></th>\n",
       "      <th>Age</th>\n",
       "      <th>Sleep Quality</th>\n",
       "    </tr>\n",
       "  </thead>\n",
       "  <tbody>\n",
       "    <tr>\n",
       "      <th>Age</th>\n",
       "      <td>1.000000</td>\n",
       "      <td>-0.848356</td>\n",
       "    </tr>\n",
       "    <tr>\n",
       "      <th>Sleep Quality</th>\n",
       "      <td>-0.848356</td>\n",
       "      <td>1.000000</td>\n",
       "    </tr>\n",
       "  </tbody>\n",
       "</table>\n",
       "</div>"
      ],
      "text/plain": [
       "                    Age  Sleep Quality\n",
       "Age            1.000000      -0.848356\n",
       "Sleep Quality -0.848356       1.000000"
      ]
     },
     "execution_count": 13,
     "metadata": {},
     "output_type": "execute_result"
    }
   ],
   "source": [
    "age_sleep_quality_corr = df[[\"Age\", \"Sleep Quality\"]].corr()\n",
    "age_sleep_quality_corr"
   ]
  },
  {
   "cell_type": "code",
   "execution_count": 14,
   "id": "d29cf582",
   "metadata": {
    "execution": {
     "iopub.execute_input": "2024-10-03T13:03:33.076493Z",
     "iopub.status.busy": "2024-10-03T13:03:33.076042Z",
     "iopub.status.idle": "2024-10-03T13:03:33.085752Z",
     "shell.execute_reply": "2024-10-03T13:03:33.084361Z"
    },
    "papermill": {
     "duration": 0.027739,
     "end_time": "2024-10-03T13:03:33.089197",
     "exception": false,
     "start_time": "2024-10-03T13:03:33.061458",
     "status": "completed"
    },
    "tags": []
   },
   "outputs": [
    {
     "data": {
      "text/plain": [
       "Age              1.000000\n",
       "Sleep Quality   -0.848356\n",
       "Name: Age, dtype: float64"
      ]
     },
     "execution_count": 14,
     "metadata": {},
     "output_type": "execute_result"
    }
   ],
   "source": [
    "age_sleep_quality_corr[\"Age\"]"
   ]
  },
  {
   "cell_type": "code",
   "execution_count": 15,
   "id": "943a6772",
   "metadata": {
    "execution": {
     "iopub.execute_input": "2024-10-03T13:03:33.115842Z",
     "iopub.status.busy": "2024-10-03T13:03:33.115407Z",
     "iopub.status.idle": "2024-10-03T13:03:34.195727Z",
     "shell.execute_reply": "2024-10-03T13:03:34.194488Z"
    },
    "papermill": {
     "duration": 1.096474,
     "end_time": "2024-10-03T13:03:34.198118",
     "exception": false,
     "start_time": "2024-10-03T13:03:33.101644",
     "status": "completed"
    },
    "tags": []
   },
   "outputs": [
    {
     "data": {
      "image/png": "[encoded data removed]",
      "text/plain": [
       "<Figure size 1200x600 with 1 Axes>"
      ]
     },
     "metadata": {},
     "output_type": "display_data"
    }
   ],
   "source": [
    "plt.figure(figsize = (12,6))\n",
    "sns.barplot(x = \"Age\", y = \"Sleep Quality\", data = df)\n",
    "plt.title(\"Age vs Sleep Quality Analysis\")\n",
    "plt.xlabel(\"Age\")\n",
    "plt.ylabel(\"Sleep Quality\")\n",
    "plt.show()"
   ]
  },
  {
   "cell_type": "code",
   "execution_count": 16,
   "id": "34cf0c1f",
   "metadata": {
    "execution": {
     "iopub.execute_input": "2024-10-03T13:03:34.226471Z",
     "iopub.status.busy": "2024-10-03T13:03:34.225678Z",
     "iopub.status.idle": "2024-10-03T13:03:34.252413Z",
     "shell.execute_reply": "2024-10-03T13:03:34.251204Z"
    },
    "papermill": {
     "duration": 0.043476,
     "end_time": "2024-10-03T13:03:34.254930",
     "exception": false,
     "start_time": "2024-10-03T13:03:34.211454",
     "status": "completed"
    },
    "tags": []
   },
   "outputs": [
    {
     "data": {
      "text/html": [
       "<style>#sk-container-id-1 {color: black;background-color: white;}#sk-container-id-1 pre{padding: 0;}#sk-container-id-1 div.sk-toggleable {background-color: white;}#sk-container-id-1 label.sk-toggleable__label {cursor: pointer;display: block;width: 100%;margin-bottom: 0;padding: 0.3em;box-sizing: border-box;text-align: center;}#sk-container-id-1 label.sk-toggleable__label-arrow:before {content: \"▸\";float: left;margin-right: 0.25em;color: #696969;}#sk-container-id-1 label.sk-toggleable__label-arrow:hover:before {color: black;}#sk-container-id-1 div.sk-estimator:hover label.sk-toggleable__label-arrow:before {color: black;}#sk-container-id-1 div.sk-toggleable__content {max-height: 0;max-width: 0;overflow: hidden;text-align: left;background-color: #f0f8ff;}#sk-container-id-1 div.sk-toggleable__content pre {margin: 0.2em;color: black;border-radius: 0.25em;background-color: #f0f8ff;}#sk-container-id-1 input.sk-toggleable__control:checked~div.sk-toggleable__content {max-height: 200px;max-width: 100%;overflow: auto;}#sk-container-id-1 input.sk-toggleable__control:checked~label.sk-toggleable__label-arrow:before {content: \"▾\";}#sk-container-id-1 div.sk-estimator input.sk-toggleable__control:checked~label.sk-toggleable__label {background-color: #d4ebff;}#sk-container-id-1 div.sk-label input.sk-toggleable__control:checked~label.sk-toggleable__label {background-color: #d4ebff;}#sk-container-id-1 input.sk-hidden--visually {border: 0;clip: rect(1px 1px 1px 1px);clip: rect(1px, 1px, 1px, 1px);height: 1px;margin: -1px;overflow: hidden;padding: 0;position: absolute;width: 1px;}#sk-container-id-1 div.sk-estimator {font-family: monospace;background-color: #f0f8ff;border: 1px dotted black;border-radius: 0.25em;box-sizing: border-box;margin-bottom: 0.5em;}#sk-container-id-1 div.sk-estimator:hover {background-color: #d4ebff;}#sk-container-id-1 div.sk-parallel-item::after {content: \"\";width: 100%;border-bottom: 1px solid gray;flex-grow: 1;}#sk-container-id-1 div.sk-label:hover label.sk-toggleable__label {background-color: #d4ebff;}#sk-container-id-1 div.sk-serial::before {content: \"\";position: absolute;border-left: 1px solid gray;box-sizing: border-box;top: 0;bottom: 0;left: 50%;z-index: 0;}#sk-container-id-1 div.sk-serial {display: flex;flex-direction: column;align-items: center;background-color: white;padding-right: 0.2em;padding-left: 0.2em;position: relative;}#sk-container-id-1 div.sk-item {position: relative;z-index: 1;}#sk-container-id-1 div.sk-parallel {display: flex;align-items: stretch;justify-content: center;background-color: white;position: relative;}#sk-container-id-1 div.sk-item::before, #sk-container-id-1 div.sk-parallel-item::before {content: \"\";position: absolute;border-left: 1px solid gray;box-sizing: border-box;top: 0;bottom: 0;left: 50%;z-index: -1;}#sk-container-id-1 div.sk-parallel-item {display: flex;flex-direction: column;z-index: 1;position: relative;background-color: white;}#sk-container-id-1 div.sk-parallel-item:first-child::after {align-self: flex-end;width: 50%;}#sk-container-id-1 div.sk-parallel-item:last-child::after {align-self: flex-start;width: 50%;}#sk-container-id-1 div.sk-parallel-item:only-child::after {width: 0;}#sk-container-id-1 div.sk-dashed-wrapped {border: 1px dashed gray;margin: 0 0.4em 0.5em 0.4em;box-sizing: border-box;padding-bottom: 0.4em;background-color: white;}#sk-container-id-1 div.sk-label label {font-family: monospace;font-weight: bold;display: inline-block;line-height: 1.2em;}#sk-container-id-1 div.sk-label-container {text-align: center;}#sk-container-id-1 div.sk-container {/* jupyter's `normalize.less` sets `[hidden] { display: none; }` but bootstrap.min.css set `[hidden] { display: none !important; }` so we also need the `!important` here to be able to override the default hidden behavior on the sphinx rendered scikit-learn.org. See: https://github.com/scikit-learn/scikit-learn/issues/21755 */display: inline-block !important;position: relative;}#sk-container-id-1 div.sk-text-repr-fallback {display: none;}</style><div id=\"sk-container-id-1\" class=\"sk-top-container\"><div class=\"sk-text-repr-fallback\"><pre>LinearRegression()</pre><b>In a Jupyter environment, please rerun this cell to show the HTML representation or trust the notebook. <br />On GitHub, the HTML representation is unable to render, please try loading this page with nbviewer.org.</b></div><div class=\"sk-container\" hidden><div class=\"sk-item\"><div class=\"sk-estimator sk-toggleable\"><input class=\"sk-toggleable__control sk-hidden--visually\" id=\"sk-estimator-id-1\" type=\"checkbox\" checked><label for=\"sk-estimator-id-1\" class=\"sk-toggleable__label sk-toggleable__label-arrow\">LinearRegression</label><div class=\"sk-toggleable__content\"><pre>LinearRegression()</pre></div></div></div></div></div>"
      ],
      "text/plain": [
       "LinearRegression()"
      ]
     },
     "execution_count": 16,
     "metadata": {},
     "output_type": "execute_result"
    }
   ],
   "source": [
    "age_sleep_quality_model = LinearRegression()\n",
    "\n",
    "x = df[[\"Age\"]]\n",
    "y = df[[\"Sleep Quality\"]]\n",
    "\n",
    "age_sleep_quality_model.fit(x,y)"
   ]
  },
  {
   "cell_type": "code",
   "execution_count": 17,
   "id": "44584ca7",
   "metadata": {
    "execution": {
     "iopub.execute_input": "2024-10-03T13:03:34.284434Z",
     "iopub.status.busy": "2024-10-03T13:03:34.283905Z",
     "iopub.status.idle": "2024-10-03T13:03:34.291178Z",
     "shell.execute_reply": "2024-10-03T13:03:34.290098Z"
    },
    "papermill": {
     "duration": 0.02444,
     "end_time": "2024-10-03T13:03:34.293684",
     "exception": false,
     "start_time": "2024-10-03T13:03:34.269244",
     "status": "completed"
    },
    "tags": []
   },
   "outputs": [
    {
     "data": {
      "text/plain": [
       "array([13.26881202])"
      ]
     },
     "execution_count": 17,
     "metadata": {},
     "output_type": "execute_result"
    }
   ],
   "source": [
    "age_sleep_quality_model.intercept_"
   ]
  },
  {
   "cell_type": "code",
   "execution_count": 18,
   "id": "aca60f77",
   "metadata": {
    "execution": {
     "iopub.execute_input": "2024-10-03T13:03:34.322775Z",
     "iopub.status.busy": "2024-10-03T13:03:34.322336Z",
     "iopub.status.idle": "2024-10-03T13:03:34.330487Z",
     "shell.execute_reply": "2024-10-03T13:03:34.328991Z"
    },
    "papermill": {
     "duration": 0.026165,
     "end_time": "2024-10-03T13:03:34.333100",
     "exception": false,
     "start_time": "2024-10-03T13:03:34.306935",
     "status": "completed"
    },
    "tags": []
   },
   "outputs": [
    {
     "data": {
      "text/plain": [
       "array([[-0.17408531]])"
      ]
     },
     "execution_count": 18,
     "metadata": {},
     "output_type": "execute_result"
    }
   ],
   "source": [
    "age_sleep_quality_model.coef_"
   ]
  },
  {
   "cell_type": "code",
   "execution_count": 19,
   "id": "4baa6a91",
   "metadata": {
    "execution": {
     "iopub.execute_input": "2024-10-03T13:03:34.362159Z",
     "iopub.status.busy": "2024-10-03T13:03:34.361722Z",
     "iopub.status.idle": "2024-10-03T13:03:34.369034Z",
     "shell.execute_reply": "2024-10-03T13:03:34.367708Z"
    },
    "papermill": {
     "duration": 0.024735,
     "end_time": "2024-10-03T13:03:34.371628",
     "exception": false,
     "start_time": "2024-10-03T13:03:34.346893",
     "status": "completed"
    },
    "tags": []
   },
   "outputs": [],
   "source": [
    "age_sleep_quality_prediction = age_sleep_quality_model.predict(x)"
   ]
  },
  {
   "cell_type": "code",
   "execution_count": 20,
   "id": "38351fe7",
   "metadata": {
    "execution": {
     "iopub.execute_input": "2024-10-03T13:03:34.400892Z",
     "iopub.status.busy": "2024-10-03T13:03:34.400487Z",
     "iopub.status.idle": "2024-10-03T13:03:34.693223Z",
     "shell.execute_reply": "2024-10-03T13:03:34.692089Z"
    },
    "papermill": {
     "duration": 0.310383,
     "end_time": "2024-10-03T13:03:34.695815",
     "exception": false,
     "start_time": "2024-10-03T13:03:34.385432",
     "status": "completed"
    },
    "tags": []
   },
   "outputs": [
    {
     "data": {
      "image/png": "[encoded data removed]",
      "text/plain": [
       "<Figure size 1200x600 with 1 Axes>"
      ]
     },
     "metadata": {},
     "output_type": "display_data"
    }
   ],
   "source": [
    "plt.figure(figsize = (12,6))\n",
    "sns.scatterplot(x = \"Age\", y = \"Sleep Quality\", data = df, label = \"Actual Values\")\n",
    "plt.plot(x, age_sleep_quality_prediction, color = \"green\", label = \"Predicted Values\")\n",
    "plt.legend()\n",
    "plt.show()"
   ]
  },
  {
   "cell_type": "markdown",
   "id": "8359a71d",
   "metadata": {
    "papermill": {
     "duration": 0.014315,
     "end_time": "2024-10-03T13:03:34.724959",
     "exception": false,
     "start_time": "2024-10-03T13:03:34.710644",
     "status": "completed"
    },
    "tags": []
   },
   "source": [
    "# **Physical Activity vs Sleep Quality**"
   ]
  },
  {
   "cell_type": "code",
   "execution_count": 21,
   "id": "78b40cac",
   "metadata": {
    "execution": {
     "iopub.execute_input": "2024-10-03T13:03:34.754770Z",
     "iopub.status.busy": "2024-10-03T13:03:34.754348Z",
     "iopub.status.idle": "2024-10-03T13:03:34.763153Z",
     "shell.execute_reply": "2024-10-03T13:03:34.761987Z"
    },
    "papermill": {
     "duration": 0.026511,
     "end_time": "2024-10-03T13:03:34.765588",
     "exception": false,
     "start_time": "2024-10-03T13:03:34.739077",
     "status": "completed"
    },
    "tags": []
   },
   "outputs": [
    {
     "data": {
      "text/plain": [
       "0    medium\n",
       "1       low\n",
       "2      high\n",
       "3       low\n",
       "4      high\n",
       "Name: Physical Activity Level, dtype: object"
      ]
     },
     "execution_count": 21,
     "metadata": {},
     "output_type": "execute_result"
    }
   ],
   "source": [
    "df[\"Physical Activity Level\"].head()"
   ]
  },
  {
   "cell_type": "code",
   "execution_count": 22,
   "id": "b0b6dc04",
   "metadata": {
    "execution": {
     "iopub.execute_input": "2024-10-03T13:03:34.795452Z",
     "iopub.status.busy": "2024-10-03T13:03:34.795014Z",
     "iopub.status.idle": "2024-10-03T13:03:34.803382Z",
     "shell.execute_reply": "2024-10-03T13:03:34.802276Z"
    },
    "papermill": {
     "duration": 0.026033,
     "end_time": "2024-10-03T13:03:34.805676",
     "exception": false,
     "start_time": "2024-10-03T13:03:34.779643",
     "status": "completed"
    },
    "tags": []
   },
   "outputs": [
    {
     "data": {
      "text/plain": [
       "0    8\n",
       "1    7\n",
       "2    9\n",
       "3    5\n",
       "4    8\n",
       "Name: Sleep Quality, dtype: int64"
      ]
     },
     "execution_count": 22,
     "metadata": {},
     "output_type": "execute_result"
    }
   ],
   "source": [
    "df[\"Sleep Quality\"].head()"
   ]
  },
  {
   "cell_type": "code",
   "execution_count": 23,
   "id": "7f769255",
   "metadata": {
    "execution": {
     "iopub.execute_input": "2024-10-03T13:03:34.837432Z",
     "iopub.status.busy": "2024-10-03T13:03:34.836997Z",
     "iopub.status.idle": "2024-10-03T13:03:34.845784Z",
     "shell.execute_reply": "2024-10-03T13:03:34.844591Z"
    },
    "papermill": {
     "duration": 0.028369,
     "end_time": "2024-10-03T13:03:34.848262",
     "exception": false,
     "start_time": "2024-10-03T13:03:34.819893",
     "status": "completed"
    },
    "tags": []
   },
   "outputs": [
    {
     "data": {
      "text/plain": [
       "0    f\n",
       "1    m\n",
       "2    f\n",
       "3    m\n",
       "4    f\n",
       "Name: Gender, dtype: object"
      ]
     },
     "execution_count": 23,
     "metadata": {},
     "output_type": "execute_result"
    }
   ],
   "source": [
    "df[\"Gender\"].head()"
   ]
  },
  {
   "cell_type": "code",
   "execution_count": 24,
   "id": "74bd5cfb",
   "metadata": {
    "execution": {
     "iopub.execute_input": "2024-10-03T13:03:34.879097Z",
     "iopub.status.busy": "2024-10-03T13:03:34.878697Z",
     "iopub.status.idle": "2024-10-03T13:03:35.122394Z",
     "shell.execute_reply": "2024-10-03T13:03:35.120846Z"
    },
    "papermill": {
     "duration": 0.262588,
     "end_time": "2024-10-03T13:03:35.125241",
     "exception": false,
     "start_time": "2024-10-03T13:03:34.862653",
     "status": "completed"
    },
    "tags": []
   },
   "outputs": [
    {
     "data": {
      "image/png": "[encoded data removed]",
      "text/plain": [
       "<Figure size 1200x600 with 1 Axes>"
      ]
     },
     "metadata": {},
     "output_type": "display_data"
    }
   ],
   "source": [
    "#Chart for Gender sleep quality \n",
    "\n",
    "plt.figure(figsize = (12,6))\n",
    "sns.barplot(data = df, x = \"Gender\", y = \"Sleep Quality\")\n",
    "plt.title(\"Sleep Quality between Males and Females\")\n",
    "plt.xlabel(\"Gender\")\n",
    "plt.ylabel(\"Sleep Quality\")\n",
    "plt.show()"
   ]
  },
  {
   "cell_type": "markdown",
   "id": "c9fe453c",
   "metadata": {
    "papermill": {
     "duration": 0.015535,
     "end_time": "2024-10-03T13:03:35.156774",
     "exception": false,
     "start_time": "2024-10-03T13:03:35.141239",
     "status": "completed"
    },
    "tags": []
   },
   "source": [
    "Females have better sleep quality than Males"
   ]
  },
  {
   "cell_type": "code",
   "execution_count": 25,
   "id": "79cb7864",
   "metadata": {
    "execution": {
     "iopub.execute_input": "2024-10-03T13:03:35.188576Z",
     "iopub.status.busy": "2024-10-03T13:03:35.188101Z",
     "iopub.status.idle": "2024-10-03T13:03:35.423544Z",
     "shell.execute_reply": "2024-10-03T13:03:35.422407Z"
    },
    "papermill": {
     "duration": 0.254583,
     "end_time": "2024-10-03T13:03:35.426616",
     "exception": false,
     "start_time": "2024-10-03T13:03:35.172033",
     "status": "completed"
    },
    "tags": []
   },
   "outputs": [
    {
     "data": {
      "text/plain": [
       "<Axes: xlabel='Physical Activity Level', ylabel='Sleep Quality'>"
      ]
     },
     "execution_count": 25,
     "metadata": {},
     "output_type": "execute_result"
    },
    {
     "data": {
      "image/png": "[encoded data removed]",
      "text/plain": [
       "<Figure size 640x480 with 1 Axes>"
      ]
     },
     "metadata": {},
     "output_type": "display_data"
    }
   ],
   "source": [
    "#Optional... \n",
    "\n",
    "sns.barplot(data = df, x = \"Physical Activity Level\", y = \"Sleep Quality\")"
   ]
  },
  {
   "cell_type": "code",
   "execution_count": 26,
   "id": "2da24115",
   "metadata": {
    "execution": {
     "iopub.execute_input": "2024-10-03T13:03:35.459253Z",
     "iopub.status.busy": "2024-10-03T13:03:35.458811Z",
     "iopub.status.idle": "2024-10-03T13:03:35.468990Z",
     "shell.execute_reply": "2024-10-03T13:03:35.467808Z"
    },
    "papermill": {
     "duration": 0.028526,
     "end_time": "2024-10-03T13:03:35.471145",
     "exception": false,
     "start_time": "2024-10-03T13:03:35.442619",
     "status": "completed"
    },
    "tags": []
   },
   "outputs": [
    {
     "data": {
      "text/plain": [
       "0    2\n",
       "1    1\n",
       "2    3\n",
       "3    1\n",
       "4    3\n",
       "5    2\n",
       "6    3\n",
       "7    1\n",
       "8    2\n",
       "9    2\n",
       "Name: Physical Activity Level, dtype: int64"
      ]
     },
     "execution_count": 26,
     "metadata": {},
     "output_type": "execute_result"
    }
   ],
   "source": [
    "custom_codes = {\"low\": 1, \"medium\": 2, \"high\": 3}\n",
    "\n",
    "df[\"Physical Activity Level\"] = df[\"Physical Activity Level\"].map(custom_codes)\n",
    "df[\"Physical Activity Level\"].head(10)"
   ]
  },
  {
   "cell_type": "code",
   "execution_count": 27,
   "id": "e19a1acb",
   "metadata": {
    "execution": {
     "iopub.execute_input": "2024-10-03T13:03:35.503102Z",
     "iopub.status.busy": "2024-10-03T13:03:35.502683Z",
     "iopub.status.idle": "2024-10-03T13:03:35.793564Z",
     "shell.execute_reply": "2024-10-03T13:03:35.792414Z"
    },
    "papermill": {
     "duration": 0.309623,
     "end_time": "2024-10-03T13:03:35.795952",
     "exception": false,
     "start_time": "2024-10-03T13:03:35.486329",
     "status": "completed"
    },
    "tags": []
   },
   "outputs": [
    {
     "data": {
      "image/png": "[encoded data removed]",
      "text/plain": [
       "<Figure size 1200x600 with 1 Axes>"
      ]
     },
     "metadata": {},
     "output_type": "display_data"
    }
   ],
   "source": [
    "plt.figure(figsize = (12,6))\n",
    "sns.barplot(data = df, x = \"Gender\", y = \"Physical Activity Level\")\n",
    "plt.title(\"Physical Activity Level Between Males and Females\")\n",
    "plt.xlabel(\"Gender\")\n",
    "plt.ylabel(\"Physical Activity Level\")\n",
    "plt.show()"
   ]
  },
  {
   "cell_type": "code",
   "execution_count": 28,
   "id": "c905052a",
   "metadata": {
    "execution": {
     "iopub.execute_input": "2024-10-03T13:03:35.829166Z",
     "iopub.status.busy": "2024-10-03T13:03:35.828736Z",
     "iopub.status.idle": "2024-10-03T13:03:35.838146Z",
     "shell.execute_reply": "2024-10-03T13:03:35.836957Z"
    },
    "papermill": {
     "duration": 0.028876,
     "end_time": "2024-10-03T13:03:35.840595",
     "exception": false,
     "start_time": "2024-10-03T13:03:35.811719",
     "status": "completed"
    },
    "tags": []
   },
   "outputs": [],
   "source": [
    "sleep_quality_males = df[df[\"Gender\"] == \"m\"][\"Sleep Quality\"]\n",
    "sleep_quality_females = df[df[\"Gender\"] == \"f\"][\"Sleep Quality\"]\n",
    "\n",
    "physical_activity_males = df[df[\"Gender\"] == \"m\"][\"Physical Activity Level\"]\n",
    "physical_activity_females = df[df[\"Gender\"] == \"f\"][\"Physical Activity Level\"]"
   ]
  },
  {
   "cell_type": "markdown",
   "id": "536efb2b",
   "metadata": {
    "papermill": {
     "duration": 0.016328,
     "end_time": "2024-10-03T13:03:35.872511",
     "exception": false,
     "start_time": "2024-10-03T13:03:35.856183",
     "status": "completed"
    },
    "tags": []
   },
   "source": [
    "**Finding out t and p values for Sleep Quality vs Gender vs Physical Activity level**"
   ]
  },
  {
   "cell_type": "code",
   "execution_count": 29,
   "id": "497ef3a2",
   "metadata": {
    "execution": {
     "iopub.execute_input": "2024-10-03T13:03:35.906205Z",
     "iopub.status.busy": "2024-10-03T13:03:35.905805Z",
     "iopub.status.idle": "2024-10-03T13:03:35.915702Z",
     "shell.execute_reply": "2024-10-03T13:03:35.914434Z"
    },
    "papermill": {
     "duration": 0.029546,
     "end_time": "2024-10-03T13:03:35.918351",
     "exception": false,
     "start_time": "2024-10-03T13:03:35.888805",
     "status": "completed"
    },
    "tags": []
   },
   "outputs": [
    {
     "name": "stdout",
     "output_type": "stream",
     "text": [
      "t_stats value for sleep Quality vs Gender : -14.32\n",
      "p_stats value for sleep Quality vs Gender : 0.00\n"
     ]
    }
   ],
   "source": [
    "t_sleep_quality, p_sleep_quality = stats.ttest_ind(sleep_quality_males, sleep_quality_females)\n",
    "\n",
    "print(f\"t_stats value for sleep Quality vs Gender : {t_sleep_quality:.2f}\")\n",
    "print(f\"p_stats value for sleep Quality vs Gender : {p_sleep_quality:.2f}\")"
   ]
  },
  {
   "cell_type": "code",
   "execution_count": 30,
   "id": "6df94a16",
   "metadata": {
    "execution": {
     "iopub.execute_input": "2024-10-03T13:03:35.952090Z",
     "iopub.status.busy": "2024-10-03T13:03:35.951667Z",
     "iopub.status.idle": "2024-10-03T13:03:35.961589Z",
     "shell.execute_reply": "2024-10-03T13:03:35.960389Z"
    },
    "papermill": {
     "duration": 0.030113,
     "end_time": "2024-10-03T13:03:35.964190",
     "exception": false,
     "start_time": "2024-10-03T13:03:35.934077",
     "status": "completed"
    },
    "tags": []
   },
   "outputs": [
    {
     "name": "stdout",
     "output_type": "stream",
     "text": [
      "t_stats value for sleep Quality vs Gender : -10.98\n",
      "p_stats value for sleep Quality vs Gender : 0.00\n"
     ]
    }
   ],
   "source": [
    "t_physical_activity, p_physical_activity = stats.ttest_ind(physical_activity_males, physical_activity_females)\n",
    "\n",
    "print(f\"t_stats value for sleep Quality vs Gender : {t_physical_activity:.2f}\")\n",
    "print(f\"p_stats value for sleep Quality vs Gender : {p_physical_activity:.2f}\")"
   ]
  },
  {
   "cell_type": "code",
   "execution_count": 31,
   "id": "a05c9584",
   "metadata": {
    "execution": {
     "iopub.execute_input": "2024-10-03T13:03:35.998354Z",
     "iopub.status.busy": "2024-10-03T13:03:35.997361Z",
     "iopub.status.idle": "2024-10-03T13:03:36.006140Z",
     "shell.execute_reply": "2024-10-03T13:03:36.004829Z"
    },
    "papermill": {
     "duration": 0.028161,
     "end_time": "2024-10-03T13:03:36.008618",
     "exception": false,
     "start_time": "2024-10-03T13:03:35.980457",
     "status": "completed"
    },
    "tags": []
   },
   "outputs": [
    {
     "data": {
      "text/plain": [
       "0     23:00\n",
       "1     00:30\n",
       "2     22:45\n",
       "3     01:00\n",
       "4     23:30\n",
       "5     00:15\n",
       "6     22:30\n",
       "7     01:30\n",
       "8     23:00\n",
       "9     00:45\n",
       "10    01:00\n",
       "11    22:00\n",
       "12    23:30\n",
       "13    01:30\n",
       "14    22:15\n",
       "15    00:30\n",
       "16    23:45\n",
       "17    01:15\n",
       "18    22:30\n",
       "19    00:45\n",
       "Name: Bedtime, dtype: object"
      ]
     },
     "execution_count": 31,
     "metadata": {},
     "output_type": "execute_result"
    }
   ],
   "source": [
    "df[\"Bedtime\"].head(20)"
   ]
  },
  {
   "cell_type": "code",
   "execution_count": 32,
   "id": "b43e05dd",
   "metadata": {
    "execution": {
     "iopub.execute_input": "2024-10-03T13:03:36.041962Z",
     "iopub.status.busy": "2024-10-03T13:03:36.041530Z",
     "iopub.status.idle": "2024-10-03T13:03:36.051108Z",
     "shell.execute_reply": "2024-10-03T13:03:36.049307Z"
    },
    "papermill": {
     "duration": 0.030028,
     "end_time": "2024-10-03T13:03:36.054533",
     "exception": false,
     "start_time": "2024-10-03T13:03:36.024505",
     "status": "completed"
    },
    "tags": []
   },
   "outputs": [
    {
     "data": {
      "text/plain": [
       "0    06:30\n",
       "1    07:00\n",
       "2    06:45\n",
       "3    06:30\n",
       "4    07:00\n",
       "Name: Wake-up Time, dtype: object"
      ]
     },
     "execution_count": 32,
     "metadata": {},
     "output_type": "execute_result"
    }
   ],
   "source": [
    "df[\"Wake-up Time\"].head()"
   ]
  },
  {
   "cell_type": "code",
   "execution_count": 33,
   "id": "184661bb",
   "metadata": {
    "execution": {
     "iopub.execute_input": "2024-10-03T13:03:36.104359Z",
     "iopub.status.busy": "2024-10-03T13:03:36.103911Z",
     "iopub.status.idle": "2024-10-03T13:03:36.131543Z",
     "shell.execute_reply": "2024-10-03T13:03:36.130380Z"
    },
    "papermill": {
     "duration": 0.053146,
     "end_time": "2024-10-03T13:03:36.134161",
     "exception": false,
     "start_time": "2024-10-03T13:03:36.081015",
     "status": "completed"
    },
    "tags": []
   },
   "outputs": [
    {
     "data": {
      "text/html": [
       "<div>\n",
       "<style scoped>\n",
       "    .dataframe tbody tr th:only-of-type {\n",
       "        vertical-align: middle;\n",
       "    }\n",
       "\n",
       "    .dataframe tbody tr th {\n",
       "        vertical-align: top;\n",
       "    }\n",
       "\n",
       "    .dataframe thead th {\n",
       "        text-align: right;\n",
       "    }\n",
       "</style>\n",
       "<table border=\"1\" class=\"dataframe\">\n",
       "  <thead>\n",
       "    <tr style=\"text-align: right;\">\n",
       "      <th></th>\n",
       "      <th>Age</th>\n",
       "      <th>Gender</th>\n",
       "      <th>Sleep Quality</th>\n",
       "      <th>Bedtime</th>\n",
       "      <th>Wake-up Time</th>\n",
       "      <th>Daily Steps</th>\n",
       "      <th>Calories Burned</th>\n",
       "      <th>Physical Activity Level</th>\n",
       "      <th>Dietary Habits</th>\n",
       "      <th>Sleep Disorders</th>\n",
       "      <th>Medication Usage</th>\n",
       "    </tr>\n",
       "  </thead>\n",
       "  <tbody>\n",
       "    <tr>\n",
       "      <th>0</th>\n",
       "      <td>25</td>\n",
       "      <td>f</td>\n",
       "      <td>8</td>\n",
       "      <td>23.00</td>\n",
       "      <td>6.50</td>\n",
       "      <td>8000</td>\n",
       "      <td>2500</td>\n",
       "      <td>2</td>\n",
       "      <td>healthy</td>\n",
       "      <td>no</td>\n",
       "      <td>no</td>\n",
       "    </tr>\n",
       "    <tr>\n",
       "      <th>1</th>\n",
       "      <td>34</td>\n",
       "      <td>m</td>\n",
       "      <td>7</td>\n",
       "      <td>0.50</td>\n",
       "      <td>7.00</td>\n",
       "      <td>5000</td>\n",
       "      <td>2200</td>\n",
       "      <td>1</td>\n",
       "      <td>unhealthy</td>\n",
       "      <td>yes</td>\n",
       "      <td>yes</td>\n",
       "    </tr>\n",
       "    <tr>\n",
       "      <th>2</th>\n",
       "      <td>29</td>\n",
       "      <td>f</td>\n",
       "      <td>9</td>\n",
       "      <td>22.75</td>\n",
       "      <td>6.75</td>\n",
       "      <td>9000</td>\n",
       "      <td>2700</td>\n",
       "      <td>3</td>\n",
       "      <td>healthy</td>\n",
       "      <td>no</td>\n",
       "      <td>no</td>\n",
       "    </tr>\n",
       "    <tr>\n",
       "      <th>3</th>\n",
       "      <td>41</td>\n",
       "      <td>m</td>\n",
       "      <td>5</td>\n",
       "      <td>1.00</td>\n",
       "      <td>6.50</td>\n",
       "      <td>4000</td>\n",
       "      <td>2100</td>\n",
       "      <td>1</td>\n",
       "      <td>unhealthy</td>\n",
       "      <td>yes</td>\n",
       "      <td>no</td>\n",
       "    </tr>\n",
       "    <tr>\n",
       "      <th>4</th>\n",
       "      <td>22</td>\n",
       "      <td>f</td>\n",
       "      <td>8</td>\n",
       "      <td>23.50</td>\n",
       "      <td>7.00</td>\n",
       "      <td>10000</td>\n",
       "      <td>2800</td>\n",
       "      <td>3</td>\n",
       "      <td>medium</td>\n",
       "      <td>no</td>\n",
       "      <td>no</td>\n",
       "    </tr>\n",
       "    <tr>\n",
       "      <th>...</th>\n",
       "      <td>...</td>\n",
       "      <td>...</td>\n",
       "      <td>...</td>\n",
       "      <td>...</td>\n",
       "      <td>...</td>\n",
       "      <td>...</td>\n",
       "      <td>...</td>\n",
       "      <td>...</td>\n",
       "      <td>...</td>\n",
       "      <td>...</td>\n",
       "      <td>...</td>\n",
       "    </tr>\n",
       "    <tr>\n",
       "      <th>95</th>\n",
       "      <td>43</td>\n",
       "      <td>m</td>\n",
       "      <td>7</td>\n",
       "      <td>0.75</td>\n",
       "      <td>7.25</td>\n",
       "      <td>6500</td>\n",
       "      <td>2400</td>\n",
       "      <td>2</td>\n",
       "      <td>medium</td>\n",
       "      <td>no</td>\n",
       "      <td>no</td>\n",
       "    </tr>\n",
       "    <tr>\n",
       "      <th>96</th>\n",
       "      <td>33</td>\n",
       "      <td>f</td>\n",
       "      <td>8</td>\n",
       "      <td>23.25</td>\n",
       "      <td>6.25</td>\n",
       "      <td>8500</td>\n",
       "      <td>2600</td>\n",
       "      <td>3</td>\n",
       "      <td>medium</td>\n",
       "      <td>no</td>\n",
       "      <td>no</td>\n",
       "    </tr>\n",
       "    <tr>\n",
       "      <th>97</th>\n",
       "      <td>46</td>\n",
       "      <td>m</td>\n",
       "      <td>4</td>\n",
       "      <td>1.50</td>\n",
       "      <td>7.00</td>\n",
       "      <td>3000</td>\n",
       "      <td>2000</td>\n",
       "      <td>1</td>\n",
       "      <td>unhealthy</td>\n",
       "      <td>yes</td>\n",
       "      <td>yes</td>\n",
       "    </tr>\n",
       "    <tr>\n",
       "      <th>98</th>\n",
       "      <td>25</td>\n",
       "      <td>f</td>\n",
       "      <td>9</td>\n",
       "      <td>22.25</td>\n",
       "      <td>6.75</td>\n",
       "      <td>9500</td>\n",
       "      <td>2700</td>\n",
       "      <td>3</td>\n",
       "      <td>healthy</td>\n",
       "      <td>no</td>\n",
       "      <td>no</td>\n",
       "    </tr>\n",
       "    <tr>\n",
       "      <th>99</th>\n",
       "      <td>41</td>\n",
       "      <td>m</td>\n",
       "      <td>6</td>\n",
       "      <td>0.50</td>\n",
       "      <td>7.00</td>\n",
       "      <td>5000</td>\n",
       "      <td>2200</td>\n",
       "      <td>2</td>\n",
       "      <td>unhealthy</td>\n",
       "      <td>no</td>\n",
       "      <td>no</td>\n",
       "    </tr>\n",
       "  </tbody>\n",
       "</table>\n",
       "<p>100 rows × 11 columns</p>\n",
       "</div>"
      ],
      "text/plain": [
       "    Age Gender  Sleep Quality  Bedtime  Wake-up Time  Daily Steps  \\\n",
       "0    25      f              8    23.00          6.50         8000   \n",
       "1    34      m              7     0.50          7.00         5000   \n",
       "2    29      f              9    22.75          6.75         9000   \n",
       "3    41      m              5     1.00          6.50         4000   \n",
       "4    22      f              8    23.50          7.00        10000   \n",
       "..  ...    ...            ...      ...           ...          ...   \n",
       "95   43      m              7     0.75          7.25         6500   \n",
       "96   33      f              8    23.25          6.25         8500   \n",
       "97   46      m              4     1.50          7.00         3000   \n",
       "98   25      f              9    22.25          6.75         9500   \n",
       "99   41      m              6     0.50          7.00         5000   \n",
       "\n",
       "    Calories Burned  Physical Activity Level Dietary Habits Sleep Disorders  \\\n",
       "0              2500                        2        healthy              no   \n",
       "1              2200                        1      unhealthy             yes   \n",
       "2              2700                        3        healthy              no   \n",
       "3              2100                        1      unhealthy             yes   \n",
       "4              2800                        3         medium              no   \n",
       "..              ...                      ...            ...             ...   \n",
       "95             2400                        2         medium              no   \n",
       "96             2600                        3         medium              no   \n",
       "97             2000                        1      unhealthy             yes   \n",
       "98             2700                        3        healthy              no   \n",
       "99             2200                        2      unhealthy              no   \n",
       "\n",
       "   Medication Usage  \n",
       "0                no  \n",
       "1               yes  \n",
       "2                no  \n",
       "3                no  \n",
       "4                no  \n",
       "..              ...  \n",
       "95               no  \n",
       "96               no  \n",
       "97              yes  \n",
       "98               no  \n",
       "99               no  \n",
       "\n",
       "[100 rows x 11 columns]"
      ]
     },
     "execution_count": 33,
     "metadata": {},
     "output_type": "execute_result"
    }
   ],
   "source": [
    "def sleep_time_function(str_time):\n",
    "    h = str_time.split(\":\")[0]\n",
    "    m = str_time.split(\":\")[1]\n",
    "    \n",
    "    return int(h) + int(m)/60\n",
    "df[\"Bedtime\"] = df[\"Bedtime\"].apply(sleep_time_function)\n",
    "df[\"Wake-up Time\"] = df[\"Wake-up Time\"].apply(sleep_time_function)\n",
    "\n",
    "df"
   ]
  },
  {
   "cell_type": "code",
   "execution_count": 34,
   "id": "94c36456",
   "metadata": {
    "execution": {
     "iopub.execute_input": "2024-10-03T13:03:36.174641Z",
     "iopub.status.busy": "2024-10-03T13:03:36.173951Z",
     "iopub.status.idle": "2024-10-03T13:03:36.187751Z",
     "shell.execute_reply": "2024-10-03T13:03:36.186494Z"
    },
    "papermill": {
     "duration": 0.039407,
     "end_time": "2024-10-03T13:03:36.191187",
     "exception": false,
     "start_time": "2024-10-03T13:03:36.151780",
     "status": "completed"
    },
    "tags": []
   },
   "outputs": [
    {
     "data": {
      "text/plain": [
       "0     7.5\n",
       "1     6.5\n",
       "2     8.0\n",
       "3     5.5\n",
       "4     7.5\n",
       "     ... \n",
       "95    6.5\n",
       "96    7.0\n",
       "97    5.5\n",
       "98    8.5\n",
       "99    6.5\n",
       "Name: Sleep Duration Hours, Length: 100, dtype: float64"
      ]
     },
     "execution_count": 34,
     "metadata": {},
     "output_type": "execute_result"
    }
   ],
   "source": [
    "df[\"Sleep Duration Hours\"] = (df[\"Wake-up Time\"] - df[\"Bedtime\"]) % 24\n",
    "df[\"Sleep Duration Hours\"]"
   ]
  },
  {
   "cell_type": "code",
   "execution_count": 35,
   "id": "5d4360a8",
   "metadata": {
    "execution": {
     "iopub.execute_input": "2024-10-03T13:03:36.241182Z",
     "iopub.status.busy": "2024-10-03T13:03:36.240265Z",
     "iopub.status.idle": "2024-10-03T13:03:36.263035Z",
     "shell.execute_reply": "2024-10-03T13:03:36.261879Z"
    },
    "papermill": {
     "duration": 0.047738,
     "end_time": "2024-10-03T13:03:36.265667",
     "exception": false,
     "start_time": "2024-10-03T13:03:36.217929",
     "status": "completed"
    },
    "tags": []
   },
   "outputs": [
    {
     "data": {
      "text/html": [
       "<div>\n",
       "<style scoped>\n",
       "    .dataframe tbody tr th:only-of-type {\n",
       "        vertical-align: middle;\n",
       "    }\n",
       "\n",
       "    .dataframe tbody tr th {\n",
       "        vertical-align: top;\n",
       "    }\n",
       "\n",
       "    .dataframe thead th {\n",
       "        text-align: right;\n",
       "    }\n",
       "</style>\n",
       "<table border=\"1\" class=\"dataframe\">\n",
       "  <thead>\n",
       "    <tr style=\"text-align: right;\">\n",
       "      <th></th>\n",
       "      <th>Age</th>\n",
       "      <th>Gender</th>\n",
       "      <th>Sleep Quality</th>\n",
       "      <th>Bedtime</th>\n",
       "      <th>Wake-up Time</th>\n",
       "      <th>Daily Steps</th>\n",
       "      <th>Calories Burned</th>\n",
       "      <th>Physical Activity Level</th>\n",
       "      <th>Dietary Habits</th>\n",
       "      <th>Sleep Disorders</th>\n",
       "      <th>Medication Usage</th>\n",
       "      <th>Sleep Duration Hours</th>\n",
       "    </tr>\n",
       "  </thead>\n",
       "  <tbody>\n",
       "    <tr>\n",
       "      <th>0</th>\n",
       "      <td>25</td>\n",
       "      <td>f</td>\n",
       "      <td>8</td>\n",
       "      <td>23.00</td>\n",
       "      <td>6.50</td>\n",
       "      <td>8000</td>\n",
       "      <td>2500</td>\n",
       "      <td>2</td>\n",
       "      <td>healthy</td>\n",
       "      <td>no</td>\n",
       "      <td>no</td>\n",
       "      <td>7.5</td>\n",
       "    </tr>\n",
       "    <tr>\n",
       "      <th>1</th>\n",
       "      <td>34</td>\n",
       "      <td>m</td>\n",
       "      <td>7</td>\n",
       "      <td>0.50</td>\n",
       "      <td>7.00</td>\n",
       "      <td>5000</td>\n",
       "      <td>2200</td>\n",
       "      <td>1</td>\n",
       "      <td>unhealthy</td>\n",
       "      <td>yes</td>\n",
       "      <td>yes</td>\n",
       "      <td>6.5</td>\n",
       "    </tr>\n",
       "    <tr>\n",
       "      <th>2</th>\n",
       "      <td>29</td>\n",
       "      <td>f</td>\n",
       "      <td>9</td>\n",
       "      <td>22.75</td>\n",
       "      <td>6.75</td>\n",
       "      <td>9000</td>\n",
       "      <td>2700</td>\n",
       "      <td>3</td>\n",
       "      <td>healthy</td>\n",
       "      <td>no</td>\n",
       "      <td>no</td>\n",
       "      <td>8.0</td>\n",
       "    </tr>\n",
       "    <tr>\n",
       "      <th>3</th>\n",
       "      <td>41</td>\n",
       "      <td>m</td>\n",
       "      <td>5</td>\n",
       "      <td>1.00</td>\n",
       "      <td>6.50</td>\n",
       "      <td>4000</td>\n",
       "      <td>2100</td>\n",
       "      <td>1</td>\n",
       "      <td>unhealthy</td>\n",
       "      <td>yes</td>\n",
       "      <td>no</td>\n",
       "      <td>5.5</td>\n",
       "    </tr>\n",
       "    <tr>\n",
       "      <th>4</th>\n",
       "      <td>22</td>\n",
       "      <td>f</td>\n",
       "      <td>8</td>\n",
       "      <td>23.50</td>\n",
       "      <td>7.00</td>\n",
       "      <td>10000</td>\n",
       "      <td>2800</td>\n",
       "      <td>3</td>\n",
       "      <td>medium</td>\n",
       "      <td>no</td>\n",
       "      <td>no</td>\n",
       "      <td>7.5</td>\n",
       "    </tr>\n",
       "  </tbody>\n",
       "</table>\n",
       "</div>"
      ],
      "text/plain": [
       "   Age Gender  Sleep Quality  Bedtime  Wake-up Time  Daily Steps  \\\n",
       "0   25      f              8    23.00          6.50         8000   \n",
       "1   34      m              7     0.50          7.00         5000   \n",
       "2   29      f              9    22.75          6.75         9000   \n",
       "3   41      m              5     1.00          6.50         4000   \n",
       "4   22      f              8    23.50          7.00        10000   \n",
       "\n",
       "   Calories Burned  Physical Activity Level Dietary Habits Sleep Disorders  \\\n",
       "0             2500                        2        healthy              no   \n",
       "1             2200                        1      unhealthy             yes   \n",
       "2             2700                        3        healthy              no   \n",
       "3             2100                        1      unhealthy             yes   \n",
       "4             2800                        3         medium              no   \n",
       "\n",
       "  Medication Usage  Sleep Duration Hours  \n",
       "0               no                   7.5  \n",
       "1              yes                   6.5  \n",
       "2               no                   8.0  \n",
       "3               no                   5.5  \n",
       "4               no                   7.5  "
      ]
     },
     "execution_count": 35,
     "metadata": {},
     "output_type": "execute_result"
    }
   ],
   "source": [
    "df.head()"
   ]
  },
  {
   "cell_type": "code",
   "execution_count": 36,
   "id": "bc95a396",
   "metadata": {
    "execution": {
     "iopub.execute_input": "2024-10-03T13:03:36.301323Z",
     "iopub.status.busy": "2024-10-03T13:03:36.300890Z",
     "iopub.status.idle": "2024-10-03T13:03:36.948633Z",
     "shell.execute_reply": "2024-10-03T13:03:36.947272Z"
    },
    "papermill": {
     "duration": 0.668446,
     "end_time": "2024-10-03T13:03:36.951138",
     "exception": false,
     "start_time": "2024-10-03T13:03:36.282692",
     "status": "completed"
    },
    "tags": []
   },
   "outputs": [
    {
     "data": {
      "image/png": "[encoded data removed]",
      "text/plain": [
       "<Figure size 1200x600 with 1 Axes>"
      ]
     },
     "metadata": {},
     "output_type": "display_data"
    }
   ],
   "source": [
    "plt.figure(figsize = (12,6))\n",
    "sns.barplot(data = df, x = \"Bedtime\", y = \"Sleep Quality\")\n",
    "plt.title(\"BedTime vs Sleep Quality\")\n",
    "plt.xlabel(\"Bedtime\")\n",
    "plt.ylabel(\"Sleep Quality\")\n",
    "plt.show()"
   ]
  },
  {
   "cell_type": "code",
   "execution_count": 37,
   "id": "b71974ae",
   "metadata": {
    "execution": {
     "iopub.execute_input": "2024-10-03T13:03:36.987515Z",
     "iopub.status.busy": "2024-10-03T13:03:36.987020Z",
     "iopub.status.idle": "2024-10-03T13:03:37.415920Z",
     "shell.execute_reply": "2024-10-03T13:03:37.414689Z"
    },
    "papermill": {
     "duration": 0.449875,
     "end_time": "2024-10-03T13:03:37.418399",
     "exception": false,
     "start_time": "2024-10-03T13:03:36.968524",
     "status": "completed"
    },
    "tags": []
   },
   "outputs": [
    {
     "data": {
      "text/plain": [
       "<Axes: xlabel='Wake-up Time', ylabel='Sleep Quality'>"
      ]
     },
     "execution_count": 37,
     "metadata": {},
     "output_type": "execute_result"
    },
    {
     "data": {
      "image/png": "[encoded data removed]",
      "text/plain": [
       "<Figure size 1200x600 with 1 Axes>"
      ]
     },
     "metadata": {},
     "output_type": "display_data"
    }
   ],
   "source": [
    "plt.figure(figsize = (12,6))\n",
    "sns.barplot(data = df, x = \"Wake-up Time\", y = \"Sleep Quality\")"
   ]
  },
  {
   "cell_type": "code",
   "execution_count": 38,
   "id": "94528f85",
   "metadata": {
    "execution": {
     "iopub.execute_input": "2024-10-03T13:03:37.456948Z",
     "iopub.status.busy": "2024-10-03T13:03:37.456537Z",
     "iopub.status.idle": "2024-10-03T13:03:38.147366Z",
     "shell.execute_reply": "2024-10-03T13:03:38.146009Z"
    },
    "papermill": {
     "duration": 0.713104,
     "end_time": "2024-10-03T13:03:38.149803",
     "exception": false,
     "start_time": "2024-10-03T13:03:37.436699",
     "status": "completed"
    },
    "tags": []
   },
   "outputs": [
    {
     "data": {
      "text/plain": [
       "<Axes: xlabel='Sleep Duration Hours', ylabel='Sleep Quality'>"
      ]
     },
     "execution_count": 38,
     "metadata": {},
     "output_type": "execute_result"
    },
    {
     "data": {
      "image/png": "[encoded data removed]",
      "text/plain": [
       "<Figure size 1200x600 with 1 Axes>"
      ]
     },
     "metadata": {},
     "output_type": "display_data"
    }
   ],
   "source": [
    "plt.figure(figsize = (12,6))\n",
    "sns.barplot(data = df, x = \"Sleep Duration Hours\", y = \"Sleep Quality\")"
   ]
  },
  {
   "cell_type": "code",
   "execution_count": 39,
   "id": "a42d9599",
   "metadata": {
    "execution": {
     "iopub.execute_input": "2024-10-03T13:03:38.187764Z",
     "iopub.status.busy": "2024-10-03T13:03:38.187366Z",
     "iopub.status.idle": "2024-10-03T13:03:38.201664Z",
     "shell.execute_reply": "2024-10-03T13:03:38.200521Z"
    },
    "papermill": {
     "duration": 0.035957,
     "end_time": "2024-10-03T13:03:38.203932",
     "exception": false,
     "start_time": "2024-10-03T13:03:38.167975",
     "status": "completed"
    },
    "tags": []
   },
   "outputs": [
    {
     "data": {
      "text/html": [
       "<style>#sk-container-id-2 {color: black;background-color: white;}#sk-container-id-2 pre{padding: 0;}#sk-container-id-2 div.sk-toggleable {background-color: white;}#sk-container-id-2 label.sk-toggleable__label {cursor: pointer;display: block;width: 100%;margin-bottom: 0;padding: 0.3em;box-sizing: border-box;text-align: center;}#sk-container-id-2 label.sk-toggleable__label-arrow:before {content: \"▸\";float: left;margin-right: 0.25em;color: #696969;}#sk-container-id-2 label.sk-toggleable__label-arrow:hover:before {color: black;}#sk-container-id-2 div.sk-estimator:hover label.sk-toggleable__label-arrow:before {color: black;}#sk-container-id-2 div.sk-toggleable__content {max-height: 0;max-width: 0;overflow: hidden;text-align: left;background-color: #f0f8ff;}#sk-container-id-2 div.sk-toggleable__content pre {margin: 0.2em;color: black;border-radius: 0.25em;background-color: #f0f8ff;}#sk-container-id-2 input.sk-toggleable__control:checked~div.sk-toggleable__content {max-height: 200px;max-width: 100%;overflow: auto;}#sk-container-id-2 input.sk-toggleable__control:checked~label.sk-toggleable__label-arrow:before {content: \"▾\";}#sk-container-id-2 div.sk-estimator input.sk-toggleable__control:checked~label.sk-toggleable__label {background-color: #d4ebff;}#sk-container-id-2 div.sk-label input.sk-toggleable__control:checked~label.sk-toggleable__label {background-color: #d4ebff;}#sk-container-id-2 input.sk-hidden--visually {border: 0;clip: rect(1px 1px 1px 1px);clip: rect(1px, 1px, 1px, 1px);height: 1px;margin: -1px;overflow: hidden;padding: 0;position: absolute;width: 1px;}#sk-container-id-2 div.sk-estimator {font-family: monospace;background-color: #f0f8ff;border: 1px dotted black;border-radius: 0.25em;box-sizing: border-box;margin-bottom: 0.5em;}#sk-container-id-2 div.sk-estimator:hover {background-color: #d4ebff;}#sk-container-id-2 div.sk-parallel-item::after {content: \"\";width: 100%;border-bottom: 1px solid gray;flex-grow: 1;}#sk-container-id-2 div.sk-label:hover label.sk-toggleable__label {background-color: #d4ebff;}#sk-container-id-2 div.sk-serial::before {content: \"\";position: absolute;border-left: 1px solid gray;box-sizing: border-box;top: 0;bottom: 0;left: 50%;z-index: 0;}#sk-container-id-2 div.sk-serial {display: flex;flex-direction: column;align-items: center;background-color: white;padding-right: 0.2em;padding-left: 0.2em;position: relative;}#sk-container-id-2 div.sk-item {position: relative;z-index: 1;}#sk-container-id-2 div.sk-parallel {display: flex;align-items: stretch;justify-content: center;background-color: white;position: relative;}#sk-container-id-2 div.sk-item::before, #sk-container-id-2 div.sk-parallel-item::before {content: \"\";position: absolute;border-left: 1px solid gray;box-sizing: border-box;top: 0;bottom: 0;left: 50%;z-index: -1;}#sk-container-id-2 div.sk-parallel-item {display: flex;flex-direction: column;z-index: 1;position: relative;background-color: white;}#sk-container-id-2 div.sk-parallel-item:first-child::after {align-self: flex-end;width: 50%;}#sk-container-id-2 div.sk-parallel-item:last-child::after {align-self: flex-start;width: 50%;}#sk-container-id-2 div.sk-parallel-item:only-child::after {width: 0;}#sk-container-id-2 div.sk-dashed-wrapped {border: 1px dashed gray;margin: 0 0.4em 0.5em 0.4em;box-sizing: border-box;padding-bottom: 0.4em;background-color: white;}#sk-container-id-2 div.sk-label label {font-family: monospace;font-weight: bold;display: inline-block;line-height: 1.2em;}#sk-container-id-2 div.sk-label-container {text-align: center;}#sk-container-id-2 div.sk-container {/* jupyter's `normalize.less` sets `[hidden] { display: none; }` but bootstrap.min.css set `[hidden] { display: none !important; }` so we also need the `!important` here to be able to override the default hidden behavior on the sphinx rendered scikit-learn.org. See: https://github.com/scikit-learn/scikit-learn/issues/21755 */display: inline-block !important;position: relative;}#sk-container-id-2 div.sk-text-repr-fallback {display: none;}</style><div id=\"sk-container-id-2\" class=\"sk-top-container\"><div class=\"sk-text-repr-fallback\"><pre>LinearRegression()</pre><b>In a Jupyter environment, please rerun this cell to show the HTML representation or trust the notebook. <br />On GitHub, the HTML representation is unable to render, please try loading this page with nbviewer.org.</b></div><div class=\"sk-container\" hidden><div class=\"sk-item\"><div class=\"sk-estimator sk-toggleable\"><input class=\"sk-toggleable__control sk-hidden--visually\" id=\"sk-estimator-id-2\" type=\"checkbox\" checked><label for=\"sk-estimator-id-2\" class=\"sk-toggleable__label sk-toggleable__label-arrow\">LinearRegression</label><div class=\"sk-toggleable__content\"><pre>LinearRegression()</pre></div></div></div></div></div>"
      ],
      "text/plain": [
       "LinearRegression()"
      ]
     },
     "execution_count": 39,
     "metadata": {},
     "output_type": "execute_result"
    }
   ],
   "source": [
    "sleep_duration_quality_model = LinearRegression()\n",
    "\n",
    "x = df[[\"Sleep Duration Hours\"]]\n",
    "y = df[[\"Sleep Quality\"]]\n",
    "\n",
    "sleep_duration_quality_model.fit(x,y)"
   ]
  },
  {
   "cell_type": "code",
   "execution_count": 40,
   "id": "0a6a2e9d",
   "metadata": {
    "execution": {
     "iopub.execute_input": "2024-10-03T13:03:38.243028Z",
     "iopub.status.busy": "2024-10-03T13:03:38.242592Z",
     "iopub.status.idle": "2024-10-03T13:03:38.251883Z",
     "shell.execute_reply": "2024-10-03T13:03:38.250585Z"
    },
    "papermill": {
     "duration": 0.031525,
     "end_time": "2024-10-03T13:03:38.254437",
     "exception": false,
     "start_time": "2024-10-03T13:03:38.222912",
     "status": "completed"
    },
    "tags": []
   },
   "outputs": [
    {
     "data": {
      "text/plain": [
       "array([[1.36940999]])"
      ]
     },
     "execution_count": 40,
     "metadata": {},
     "output_type": "execute_result"
    }
   ],
   "source": [
    "sleep_duration_quality_model.coef_"
   ]
  },
  {
   "cell_type": "code",
   "execution_count": 41,
   "id": "9db5c4b9",
   "metadata": {
    "execution": {
     "iopub.execute_input": "2024-10-03T13:03:38.292669Z",
     "iopub.status.busy": "2024-10-03T13:03:38.292214Z",
     "iopub.status.idle": "2024-10-03T13:03:38.299472Z",
     "shell.execute_reply": "2024-10-03T13:03:38.298320Z"
    },
    "papermill": {
     "duration": 0.028935,
     "end_time": "2024-10-03T13:03:38.301772",
     "exception": false,
     "start_time": "2024-10-03T13:03:38.272837",
     "status": "completed"
    },
    "tags": []
   },
   "outputs": [
    {
     "data": {
      "text/plain": [
       "array([-2.57559935])"
      ]
     },
     "execution_count": 41,
     "metadata": {},
     "output_type": "execute_result"
    }
   ],
   "source": [
    "sleep_duration_quality_model.intercept_"
   ]
  },
  {
   "cell_type": "code",
   "execution_count": 42,
   "id": "a94a7922",
   "metadata": {
    "execution": {
     "iopub.execute_input": "2024-10-03T13:03:38.341432Z",
     "iopub.status.busy": "2024-10-03T13:03:38.340942Z",
     "iopub.status.idle": "2024-10-03T13:03:38.348105Z",
     "shell.execute_reply": "2024-10-03T13:03:38.346797Z"
    },
    "papermill": {
     "duration": 0.030425,
     "end_time": "2024-10-03T13:03:38.350890",
     "exception": false,
     "start_time": "2024-10-03T13:03:38.320465",
     "status": "completed"
    },
    "tags": []
   },
   "outputs": [],
   "source": [
    "prediction = sleep_duration_quality_model.predict(x)"
   ]
  },
  {
   "cell_type": "code",
   "execution_count": 43,
   "id": "8b13b66d",
   "metadata": {
    "execution": {
     "iopub.execute_input": "2024-10-03T13:03:38.390221Z",
     "iopub.status.busy": "2024-10-03T13:03:38.389784Z",
     "iopub.status.idle": "2024-10-03T13:03:38.708365Z",
     "shell.execute_reply": "2024-10-03T13:03:38.707066Z"
    },
    "papermill": {
     "duration": 0.340924,
     "end_time": "2024-10-03T13:03:38.710977",
     "exception": false,
     "start_time": "2024-10-03T13:03:38.370053",
     "status": "completed"
    },
    "tags": []
   },
   "outputs": [
    {
     "data": {
      "image/png": "[encoded data removed]",
      "text/plain": [
       "<Figure size 1200x600 with 1 Axes>"
      ]
     },
     "metadata": {},
     "output_type": "display_data"
    }
   ],
   "source": [
    "plt.figure(figsize = (12,6))\n",
    "sns.scatterplot(data = df, x = \"Sleep Duration Hours\", y = \"Sleep Quality\", label = \"Actual Values\")\n",
    "plt.plot(x, prediction, color = \"green\", label = \"Predicted Values\")\n",
    "plt.legend()\n",
    "plt.show()"
   ]
  },
  {
   "cell_type": "markdown",
   "id": "63e93ab3",
   "metadata": {
    "papermill": {
     "duration": 0.01915,
     "end_time": "2024-10-03T13:03:38.749477",
     "exception": false,
     "start_time": "2024-10-03T13:03:38.730327",
     "status": "completed"
    },
    "tags": []
   },
   "source": [
    "# **Sleep Disorders vs Sleep Quality**"
   ]
  },
  {
   "cell_type": "code",
   "execution_count": 44,
   "id": "76bf60f5",
   "metadata": {
    "execution": {
     "iopub.execute_input": "2024-10-03T13:03:38.789565Z",
     "iopub.status.busy": "2024-10-03T13:03:38.789077Z",
     "iopub.status.idle": "2024-10-03T13:03:39.013657Z",
     "shell.execute_reply": "2024-10-03T13:03:39.012489Z"
    },
    "papermill": {
     "duration": 0.247683,
     "end_time": "2024-10-03T13:03:39.016136",
     "exception": false,
     "start_time": "2024-10-03T13:03:38.768453",
     "status": "completed"
    },
    "tags": []
   },
   "outputs": [
    {
     "name": "stderr",
     "output_type": "stream",
     "text": [
      "/opt/conda/lib/python3.10/site-packages/seaborn/categorical.py:1794: FutureWarning: use_inf_as_na option is deprecated and will be removed in a future version. Convert inf values to NaN before operating instead.\n",
      "  with pd.option_context('mode.use_inf_as_na', True):\n",
      "/opt/conda/lib/python3.10/site-packages/seaborn/categorical.py:1794: FutureWarning: use_inf_as_na option is deprecated and will be removed in a future version. Convert inf values to NaN before operating instead.\n",
      "  with pd.option_context('mode.use_inf_as_na', True):\n"
     ]
    },
    {
     "data": {
      "image/png": "[encoded data removed]",
      "text/plain": [
       "<Figure size 1200x600 with 1 Axes>"
      ]
     },
     "metadata": {},
     "output_type": "display_data"
    }
   ],
   "source": [
    "plt.figure(figsize = (12,6))\n",
    "sns.boxenplot(data = df, x = \"Sleep Disorders\", y = \"Sleep Quality\")\n",
    "plt.show()"
   ]
  },
  {
   "cell_type": "code",
   "execution_count": 45,
   "id": "1d583922",
   "metadata": {
    "execution": {
     "iopub.execute_input": "2024-10-03T13:03:39.058834Z",
     "iopub.status.busy": "2024-10-03T13:03:39.058269Z",
     "iopub.status.idle": "2024-10-03T13:03:39.077629Z",
     "shell.execute_reply": "2024-10-03T13:03:39.076350Z"
    },
    "papermill": {
     "duration": 0.043587,
     "end_time": "2024-10-03T13:03:39.080150",
     "exception": false,
     "start_time": "2024-10-03T13:03:39.036563",
     "status": "completed"
    },
    "tags": []
   },
   "outputs": [
    {
     "data": {
      "text/html": [
       "<div>\n",
       "<style scoped>\n",
       "    .dataframe tbody tr th:only-of-type {\n",
       "        vertical-align: middle;\n",
       "    }\n",
       "\n",
       "    .dataframe tbody tr th {\n",
       "        vertical-align: top;\n",
       "    }\n",
       "\n",
       "    .dataframe thead th {\n",
       "        text-align: right;\n",
       "    }\n",
       "</style>\n",
       "<table border=\"1\" class=\"dataframe\">\n",
       "  <thead>\n",
       "    <tr style=\"text-align: right;\">\n",
       "      <th></th>\n",
       "      <th>Age</th>\n",
       "      <th>Sleep Quality</th>\n",
       "      <th>Bedtime</th>\n",
       "      <th>Wake-up Time</th>\n",
       "      <th>Daily Steps</th>\n",
       "      <th>Calories Burned</th>\n",
       "      <th>Physical Activity Level</th>\n",
       "      <th>Sleep Duration Hours</th>\n",
       "    </tr>\n",
       "  </thead>\n",
       "  <tbody>\n",
       "    <tr>\n",
       "      <th>0</th>\n",
       "      <td>25</td>\n",
       "      <td>8</td>\n",
       "      <td>23.00</td>\n",
       "      <td>6.50</td>\n",
       "      <td>8000</td>\n",
       "      <td>2500</td>\n",
       "      <td>2</td>\n",
       "      <td>7.5</td>\n",
       "    </tr>\n",
       "    <tr>\n",
       "      <th>1</th>\n",
       "      <td>34</td>\n",
       "      <td>7</td>\n",
       "      <td>0.50</td>\n",
       "      <td>7.00</td>\n",
       "      <td>5000</td>\n",
       "      <td>2200</td>\n",
       "      <td>1</td>\n",
       "      <td>6.5</td>\n",
       "    </tr>\n",
       "    <tr>\n",
       "      <th>2</th>\n",
       "      <td>29</td>\n",
       "      <td>9</td>\n",
       "      <td>22.75</td>\n",
       "      <td>6.75</td>\n",
       "      <td>9000</td>\n",
       "      <td>2700</td>\n",
       "      <td>3</td>\n",
       "      <td>8.0</td>\n",
       "    </tr>\n",
       "    <tr>\n",
       "      <th>3</th>\n",
       "      <td>41</td>\n",
       "      <td>5</td>\n",
       "      <td>1.00</td>\n",
       "      <td>6.50</td>\n",
       "      <td>4000</td>\n",
       "      <td>2100</td>\n",
       "      <td>1</td>\n",
       "      <td>5.5</td>\n",
       "    </tr>\n",
       "    <tr>\n",
       "      <th>4</th>\n",
       "      <td>22</td>\n",
       "      <td>8</td>\n",
       "      <td>23.50</td>\n",
       "      <td>7.00</td>\n",
       "      <td>10000</td>\n",
       "      <td>2800</td>\n",
       "      <td>3</td>\n",
       "      <td>7.5</td>\n",
       "    </tr>\n",
       "    <tr>\n",
       "      <th>...</th>\n",
       "      <td>...</td>\n",
       "      <td>...</td>\n",
       "      <td>...</td>\n",
       "      <td>...</td>\n",
       "      <td>...</td>\n",
       "      <td>...</td>\n",
       "      <td>...</td>\n",
       "      <td>...</td>\n",
       "    </tr>\n",
       "    <tr>\n",
       "      <th>95</th>\n",
       "      <td>43</td>\n",
       "      <td>7</td>\n",
       "      <td>0.75</td>\n",
       "      <td>7.25</td>\n",
       "      <td>6500</td>\n",
       "      <td>2400</td>\n",
       "      <td>2</td>\n",
       "      <td>6.5</td>\n",
       "    </tr>\n",
       "    <tr>\n",
       "      <th>96</th>\n",
       "      <td>33</td>\n",
       "      <td>8</td>\n",
       "      <td>23.25</td>\n",
       "      <td>6.25</td>\n",
       "      <td>8500</td>\n",
       "      <td>2600</td>\n",
       "      <td>3</td>\n",
       "      <td>7.0</td>\n",
       "    </tr>\n",
       "    <tr>\n",
       "      <th>97</th>\n",
       "      <td>46</td>\n",
       "      <td>4</td>\n",
       "      <td>1.50</td>\n",
       "      <td>7.00</td>\n",
       "      <td>3000</td>\n",
       "      <td>2000</td>\n",
       "      <td>1</td>\n",
       "      <td>5.5</td>\n",
       "    </tr>\n",
       "    <tr>\n",
       "      <th>98</th>\n",
       "      <td>25</td>\n",
       "      <td>9</td>\n",
       "      <td>22.25</td>\n",
       "      <td>6.75</td>\n",
       "      <td>9500</td>\n",
       "      <td>2700</td>\n",
       "      <td>3</td>\n",
       "      <td>8.5</td>\n",
       "    </tr>\n",
       "    <tr>\n",
       "      <th>99</th>\n",
       "      <td>41</td>\n",
       "      <td>6</td>\n",
       "      <td>0.50</td>\n",
       "      <td>7.00</td>\n",
       "      <td>5000</td>\n",
       "      <td>2200</td>\n",
       "      <td>2</td>\n",
       "      <td>6.5</td>\n",
       "    </tr>\n",
       "  </tbody>\n",
       "</table>\n",
       "<p>100 rows × 8 columns</p>\n",
       "</div>"
      ],
      "text/plain": [
       "    Age  Sleep Quality  Bedtime  Wake-up Time  Daily Steps  Calories Burned  \\\n",
       "0    25              8    23.00          6.50         8000             2500   \n",
       "1    34              7     0.50          7.00         5000             2200   \n",
       "2    29              9    22.75          6.75         9000             2700   \n",
       "3    41              5     1.00          6.50         4000             2100   \n",
       "4    22              8    23.50          7.00        10000             2800   \n",
       "..  ...            ...      ...           ...          ...              ...   \n",
       "95   43              7     0.75          7.25         6500             2400   \n",
       "96   33              8    23.25          6.25         8500             2600   \n",
       "97   46              4     1.50          7.00         3000             2000   \n",
       "98   25              9    22.25          6.75         9500             2700   \n",
       "99   41              6     0.50          7.00         5000             2200   \n",
       "\n",
       "    Physical Activity Level  Sleep Duration Hours  \n",
       "0                         2                   7.5  \n",
       "1                         1                   6.5  \n",
       "2                         3                   8.0  \n",
       "3                         1                   5.5  \n",
       "4                         3                   7.5  \n",
       "..                      ...                   ...  \n",
       "95                        2                   6.5  \n",
       "96                        3                   7.0  \n",
       "97                        1                   5.5  \n",
       "98                        3                   8.5  \n",
       "99                        2                   6.5  \n",
       "\n",
       "[100 rows x 8 columns]"
      ]
     },
     "execution_count": 45,
     "metadata": {},
     "output_type": "execute_result"
    }
   ],
   "source": [
    "df_numeric_features = df.select_dtypes(include = [\"int64\", \"float64\"])\n",
    "df_numeric_features"
   ]
  },
  {
   "cell_type": "code",
   "execution_count": 46,
   "id": "3529f4c4",
   "metadata": {
    "execution": {
     "iopub.execute_input": "2024-10-03T13:03:39.123011Z",
     "iopub.status.busy": "2024-10-03T13:03:39.122506Z",
     "iopub.status.idle": "2024-10-03T13:03:39.530558Z",
     "shell.execute_reply": "2024-10-03T13:03:39.529168Z"
    },
    "papermill": {
     "duration": 0.433467,
     "end_time": "2024-10-03T13:03:39.533345",
     "exception": false,
     "start_time": "2024-10-03T13:03:39.099878",
     "status": "completed"
    },
    "tags": []
   },
   "outputs": [
    {
     "data": {
      "image/png": "[encoded data removed]",
      "text/plain": [
       "<Figure size 1200x600 with 2 Axes>"
      ]
     },
     "metadata": {},
     "output_type": "display_data"
    }
   ],
   "source": [
    "plt.figure(figsize = (12,6))\n",
    "sns.heatmap(data = df_numeric_features.corr())\n",
    "plt.show()"
   ]
  }
 ],
 "metadata": {
  "kaggle": {
   "accelerator": "none",
   "dataSources": [
    {
     "datasetId": 5670196,
     "sourceId": 9353653,
     "sourceType": "datasetVersion"
    }
   ],
   "dockerImageVersionId": 30775,
   "isGpuEnabled": false,
   "isInternetEnabled": false,
   "language": "python",
   "sourceType": "notebook"
  },
  "kernelspec": {
   "display_name": "Python 3",
   "language": "python",
   "name": "python3"
  },
  "language_info": {
   "codemirror_mode": {
    "name": "ipython",
    "version": 3
   },
   "file_extension": ".py",
   "mimetype": "text/x-python",
   "name": "python",
   "nbconvert_exporter": "python",
   "pygments_lexer": "ipython3",
   "version": "3.10.14"
  },
  "papermill": {
   "default_parameters": {},
   "duration": 13.556848,
   "end_time": "2024-10-03T13:03:40.276549",
   "environment_variables": {},
   "exception": null,
   "input_path": "__notebook__.ipynb",
   "output_path": "__notebook__.ipynb",
   "parameters": {},
   "start_time": "2024-10-03T13:03:26.719701",
   "version": "2.6.0"
  }
 },
 "nbformat": 4,
 "nbformat_minor": 5
}
